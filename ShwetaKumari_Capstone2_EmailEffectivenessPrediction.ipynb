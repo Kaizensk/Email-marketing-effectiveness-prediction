{
  "nbformat": 4,
  "nbformat_minor": 0,
  "metadata": {
    "colab": {
      "name": "ShwetaKumari-Capstone2-EmailEffectivenessPrediction.ipynb",
      "provenance": [],
      "collapsed_sections": [],
      "mount_file_id": "1WWcH6e2XXx27fa3ijADaop59i1VAIT5n",
      "authorship_tag": "ABX9TyMStEfLPHxj6hhZX0JB+CVY",
      "include_colab_link": true
    },
    "kernelspec": {
      "name": "python3",
      "display_name": "Python 3"
    },
    "language_info": {
      "name": "python"
    }
  },
  "cells": [
    {
      "cell_type": "markdown",
      "metadata": {
        "id": "view-in-github",
        "colab_type": "text"
      },
      "source": [
        "<a href=\"https://colab.research.google.com/github/Kaizensk/Email-marketing-effectiveness-prediction/blob/main/ShwetaKumari_Capstone2_EmailEffectivenessPrediction.ipynb\" target=\"_parent\"><img src=\"https://colab.research.google.com/assets/colab-badge.svg\" alt=\"Open In Colab\"/></a>"
      ]
    },
    {
      "cell_type": "markdown",
      "metadata": {
        "id": "dnoG4vV1tz1T"
      },
      "source": [
        ""
      ]
    },
    {
      "cell_type": "code",
      "metadata": {
        "colab": {
          "base_uri": "https://localhost:8080/"
        },
        "id": "ZLYRy8pJe3tO",
        "outputId": "d339b9ef-a319-442a-ca03-de4698b1c18e"
      },
      "source": [
        "from google.colab import drive\n",
        "drive.mount('/content/drive')"
      ],
      "execution_count": null,
      "outputs": [
        {
          "output_type": "stream",
          "text": [
            "Drive already mounted at /content/drive; to attempt to forcibly remount, call drive.mount(\"/content/drive\", force_remount=True).\n"
          ],
          "name": "stdout"
        }
      ]
    },
    {
      "cell_type": "code",
      "metadata": {
        "id": "SscrYkbxZP7a"
      },
      "source": [
        "import numpy as np \n",
        "import pandas as pd"
      ],
      "execution_count": null,
      "outputs": []
    },
    {
      "cell_type": "code",
      "metadata": {
        "id": "lHvXMU3oeKFY"
      },
      "source": [
        "import re\n",
        "import pandas as pd\n",
        "import numpy as np\n",
        "import matplotlib.pyplot as plt \n"
      ],
      "execution_count": null,
      "outputs": []
    },
    {
      "cell_type": "code",
      "metadata": {
        "id": "ltl_NU3N-dpy"
      },
      "source": [
        "# Read the csv data\n",
        "path = \"/content/drive/MyDrive/AlmaBetter/Cohort Nilgiri/Module 4/capstone2/data_email_campaign.csv\"\n",
        "df = pd.read_csv(path)\n",
        "df1 = pd.DataFrame(df)"
      ],
      "execution_count": null,
      "outputs": []
    },
    {
      "cell_type": "code",
      "metadata": {
        "colab": {
          "base_uri": "https://localhost:8080/",
          "height": 439
        },
        "id": "JIDahMpc_5ZW",
        "outputId": "3f2acead-08e7-431d-839e-46f9fea466f0"
      },
      "source": [
        "df1"
      ],
      "execution_count": null,
      "outputs": [
        {
          "output_type": "execute_result",
          "data": {
            "text/html": [
              "<div>\n",
              "<style scoped>\n",
              "    .dataframe tbody tr th:only-of-type {\n",
              "        vertical-align: middle;\n",
              "    }\n",
              "\n",
              "    .dataframe tbody tr th {\n",
              "        vertical-align: top;\n",
              "    }\n",
              "\n",
              "    .dataframe thead th {\n",
              "        text-align: right;\n",
              "    }\n",
              "</style>\n",
              "<table border=\"1\" class=\"dataframe\">\n",
              "  <thead>\n",
              "    <tr style=\"text-align: right;\">\n",
              "      <th></th>\n",
              "      <th>Email_ID</th>\n",
              "      <th>Email_Type</th>\n",
              "      <th>Subject_Hotness_Score</th>\n",
              "      <th>Email_Source_Type</th>\n",
              "      <th>Customer_Location</th>\n",
              "      <th>Email_Campaign_Type</th>\n",
              "      <th>Total_Past_Communications</th>\n",
              "      <th>Time_Email_sent_Category</th>\n",
              "      <th>Word_Count</th>\n",
              "      <th>Total_Links</th>\n",
              "      <th>Total_Images</th>\n",
              "      <th>Email_Status</th>\n",
              "    </tr>\n",
              "  </thead>\n",
              "  <tbody>\n",
              "    <tr>\n",
              "      <th>0</th>\n",
              "      <td>EMA00081000034500</td>\n",
              "      <td>1</td>\n",
              "      <td>2.2</td>\n",
              "      <td>2</td>\n",
              "      <td>E</td>\n",
              "      <td>2</td>\n",
              "      <td>33.0</td>\n",
              "      <td>1</td>\n",
              "      <td>440</td>\n",
              "      <td>8.0</td>\n",
              "      <td>0.0</td>\n",
              "      <td>0</td>\n",
              "    </tr>\n",
              "    <tr>\n",
              "      <th>1</th>\n",
              "      <td>EMA00081000045360</td>\n",
              "      <td>2</td>\n",
              "      <td>2.1</td>\n",
              "      <td>1</td>\n",
              "      <td>NaN</td>\n",
              "      <td>2</td>\n",
              "      <td>15.0</td>\n",
              "      <td>2</td>\n",
              "      <td>504</td>\n",
              "      <td>5.0</td>\n",
              "      <td>0.0</td>\n",
              "      <td>0</td>\n",
              "    </tr>\n",
              "    <tr>\n",
              "      <th>2</th>\n",
              "      <td>EMA00081000066290</td>\n",
              "      <td>2</td>\n",
              "      <td>0.1</td>\n",
              "      <td>1</td>\n",
              "      <td>B</td>\n",
              "      <td>3</td>\n",
              "      <td>36.0</td>\n",
              "      <td>2</td>\n",
              "      <td>962</td>\n",
              "      <td>5.0</td>\n",
              "      <td>0.0</td>\n",
              "      <td>1</td>\n",
              "    </tr>\n",
              "    <tr>\n",
              "      <th>3</th>\n",
              "      <td>EMA00081000076560</td>\n",
              "      <td>1</td>\n",
              "      <td>3.0</td>\n",
              "      <td>2</td>\n",
              "      <td>E</td>\n",
              "      <td>2</td>\n",
              "      <td>25.0</td>\n",
              "      <td>2</td>\n",
              "      <td>610</td>\n",
              "      <td>16.0</td>\n",
              "      <td>0.0</td>\n",
              "      <td>0</td>\n",
              "    </tr>\n",
              "    <tr>\n",
              "      <th>4</th>\n",
              "      <td>EMA00081000109720</td>\n",
              "      <td>1</td>\n",
              "      <td>0.0</td>\n",
              "      <td>2</td>\n",
              "      <td>C</td>\n",
              "      <td>3</td>\n",
              "      <td>18.0</td>\n",
              "      <td>2</td>\n",
              "      <td>947</td>\n",
              "      <td>4.0</td>\n",
              "      <td>0.0</td>\n",
              "      <td>0</td>\n",
              "    </tr>\n",
              "    <tr>\n",
              "      <th>...</th>\n",
              "      <td>...</td>\n",
              "      <td>...</td>\n",
              "      <td>...</td>\n",
              "      <td>...</td>\n",
              "      <td>...</td>\n",
              "      <td>...</td>\n",
              "      <td>...</td>\n",
              "      <td>...</td>\n",
              "      <td>...</td>\n",
              "      <td>...</td>\n",
              "      <td>...</td>\n",
              "      <td>...</td>\n",
              "    </tr>\n",
              "    <tr>\n",
              "      <th>68348</th>\n",
              "      <td>EMA00089995974500</td>\n",
              "      <td>2</td>\n",
              "      <td>0.4</td>\n",
              "      <td>1</td>\n",
              "      <td>F</td>\n",
              "      <td>2</td>\n",
              "      <td>22.0</td>\n",
              "      <td>3</td>\n",
              "      <td>737</td>\n",
              "      <td>16.0</td>\n",
              "      <td>13.0</td>\n",
              "      <td>0</td>\n",
              "    </tr>\n",
              "    <tr>\n",
              "      <th>68349</th>\n",
              "      <td>EMA00089998225300</td>\n",
              "      <td>1</td>\n",
              "      <td>1.3</td>\n",
              "      <td>1</td>\n",
              "      <td>C</td>\n",
              "      <td>2</td>\n",
              "      <td>40.0</td>\n",
              "      <td>2</td>\n",
              "      <td>653</td>\n",
              "      <td>31.0</td>\n",
              "      <td>16.0</td>\n",
              "      <td>0</td>\n",
              "    </tr>\n",
              "    <tr>\n",
              "      <th>68350</th>\n",
              "      <td>EMA00089998436500</td>\n",
              "      <td>1</td>\n",
              "      <td>2.2</td>\n",
              "      <td>2</td>\n",
              "      <td>NaN</td>\n",
              "      <td>2</td>\n",
              "      <td>33.0</td>\n",
              "      <td>2</td>\n",
              "      <td>490</td>\n",
              "      <td>9.0</td>\n",
              "      <td>0.0</td>\n",
              "      <td>0</td>\n",
              "    </tr>\n",
              "    <tr>\n",
              "      <th>68351</th>\n",
              "      <td>EMA00089999168800</td>\n",
              "      <td>1</td>\n",
              "      <td>0.4</td>\n",
              "      <td>1</td>\n",
              "      <td>E</td>\n",
              "      <td>2</td>\n",
              "      <td>50.0</td>\n",
              "      <td>1</td>\n",
              "      <td>733</td>\n",
              "      <td>14.0</td>\n",
              "      <td>4.0</td>\n",
              "      <td>0</td>\n",
              "    </tr>\n",
              "    <tr>\n",
              "      <th>68352</th>\n",
              "      <td>EMA00089999316900</td>\n",
              "      <td>1</td>\n",
              "      <td>1.5</td>\n",
              "      <td>1</td>\n",
              "      <td>G</td>\n",
              "      <td>2</td>\n",
              "      <td>20.0</td>\n",
              "      <td>2</td>\n",
              "      <td>1038</td>\n",
              "      <td>6.0</td>\n",
              "      <td>0.0</td>\n",
              "      <td>0</td>\n",
              "    </tr>\n",
              "  </tbody>\n",
              "</table>\n",
              "<p>68353 rows × 12 columns</p>\n",
              "</div>"
            ],
            "text/plain": [
              "                Email_ID  Email_Type  ...  Total_Images  Email_Status\n",
              "0      EMA00081000034500           1  ...           0.0             0\n",
              "1      EMA00081000045360           2  ...           0.0             0\n",
              "2      EMA00081000066290           2  ...           0.0             1\n",
              "3      EMA00081000076560           1  ...           0.0             0\n",
              "4      EMA00081000109720           1  ...           0.0             0\n",
              "...                  ...         ...  ...           ...           ...\n",
              "68348  EMA00089995974500           2  ...          13.0             0\n",
              "68349  EMA00089998225300           1  ...          16.0             0\n",
              "68350  EMA00089998436500           1  ...           0.0             0\n",
              "68351  EMA00089999168800           1  ...           4.0             0\n",
              "68352  EMA00089999316900           1  ...           0.0             0\n",
              "\n",
              "[68353 rows x 12 columns]"
            ]
          },
          "metadata": {
            "tags": []
          },
          "execution_count": 16
        }
      ]
    },
    {
      "cell_type": "code",
      "metadata": {
        "colab": {
          "base_uri": "https://localhost:8080/",
          "height": 224
        },
        "id": "t_p1iVz6_8eZ",
        "outputId": "0eb6b201-0f9b-4260-9a1b-816bc14df997"
      },
      "source": [
        "df1.head()"
      ],
      "execution_count": null,
      "outputs": [
        {
          "output_type": "execute_result",
          "data": {
            "text/html": [
              "<div>\n",
              "<style scoped>\n",
              "    .dataframe tbody tr th:only-of-type {\n",
              "        vertical-align: middle;\n",
              "    }\n",
              "\n",
              "    .dataframe tbody tr th {\n",
              "        vertical-align: top;\n",
              "    }\n",
              "\n",
              "    .dataframe thead th {\n",
              "        text-align: right;\n",
              "    }\n",
              "</style>\n",
              "<table border=\"1\" class=\"dataframe\">\n",
              "  <thead>\n",
              "    <tr style=\"text-align: right;\">\n",
              "      <th></th>\n",
              "      <th>Email_ID</th>\n",
              "      <th>Email_Type</th>\n",
              "      <th>Subject_Hotness_Score</th>\n",
              "      <th>Email_Source_Type</th>\n",
              "      <th>Customer_Location</th>\n",
              "      <th>Email_Campaign_Type</th>\n",
              "      <th>Total_Past_Communications</th>\n",
              "      <th>Time_Email_sent_Category</th>\n",
              "      <th>Word_Count</th>\n",
              "      <th>Total_Links</th>\n",
              "      <th>Total_Images</th>\n",
              "      <th>Email_Status</th>\n",
              "    </tr>\n",
              "  </thead>\n",
              "  <tbody>\n",
              "    <tr>\n",
              "      <th>0</th>\n",
              "      <td>EMA00081000034500</td>\n",
              "      <td>1</td>\n",
              "      <td>2.2</td>\n",
              "      <td>2</td>\n",
              "      <td>E</td>\n",
              "      <td>2</td>\n",
              "      <td>33.0</td>\n",
              "      <td>1</td>\n",
              "      <td>440</td>\n",
              "      <td>8.0</td>\n",
              "      <td>0.0</td>\n",
              "      <td>0</td>\n",
              "    </tr>\n",
              "    <tr>\n",
              "      <th>1</th>\n",
              "      <td>EMA00081000045360</td>\n",
              "      <td>2</td>\n",
              "      <td>2.1</td>\n",
              "      <td>1</td>\n",
              "      <td>NaN</td>\n",
              "      <td>2</td>\n",
              "      <td>15.0</td>\n",
              "      <td>2</td>\n",
              "      <td>504</td>\n",
              "      <td>5.0</td>\n",
              "      <td>0.0</td>\n",
              "      <td>0</td>\n",
              "    </tr>\n",
              "    <tr>\n",
              "      <th>2</th>\n",
              "      <td>EMA00081000066290</td>\n",
              "      <td>2</td>\n",
              "      <td>0.1</td>\n",
              "      <td>1</td>\n",
              "      <td>B</td>\n",
              "      <td>3</td>\n",
              "      <td>36.0</td>\n",
              "      <td>2</td>\n",
              "      <td>962</td>\n",
              "      <td>5.0</td>\n",
              "      <td>0.0</td>\n",
              "      <td>1</td>\n",
              "    </tr>\n",
              "    <tr>\n",
              "      <th>3</th>\n",
              "      <td>EMA00081000076560</td>\n",
              "      <td>1</td>\n",
              "      <td>3.0</td>\n",
              "      <td>2</td>\n",
              "      <td>E</td>\n",
              "      <td>2</td>\n",
              "      <td>25.0</td>\n",
              "      <td>2</td>\n",
              "      <td>610</td>\n",
              "      <td>16.0</td>\n",
              "      <td>0.0</td>\n",
              "      <td>0</td>\n",
              "    </tr>\n",
              "    <tr>\n",
              "      <th>4</th>\n",
              "      <td>EMA00081000109720</td>\n",
              "      <td>1</td>\n",
              "      <td>0.0</td>\n",
              "      <td>2</td>\n",
              "      <td>C</td>\n",
              "      <td>3</td>\n",
              "      <td>18.0</td>\n",
              "      <td>2</td>\n",
              "      <td>947</td>\n",
              "      <td>4.0</td>\n",
              "      <td>0.0</td>\n",
              "      <td>0</td>\n",
              "    </tr>\n",
              "  </tbody>\n",
              "</table>\n",
              "</div>"
            ],
            "text/plain": [
              "            Email_ID  Email_Type  ...  Total_Images  Email_Status\n",
              "0  EMA00081000034500           1  ...           0.0             0\n",
              "1  EMA00081000045360           2  ...           0.0             0\n",
              "2  EMA00081000066290           2  ...           0.0             1\n",
              "3  EMA00081000076560           1  ...           0.0             0\n",
              "4  EMA00081000109720           1  ...           0.0             0\n",
              "\n",
              "[5 rows x 12 columns]"
            ]
          },
          "metadata": {
            "tags": []
          },
          "execution_count": 17
        }
      ]
    },
    {
      "cell_type": "code",
      "metadata": {
        "colab": {
          "base_uri": "https://localhost:8080/",
          "height": 224
        },
        "id": "O2LcnfUwABRh",
        "outputId": "0b0cc65a-c64f-4c6b-91a9-92f7433ee806"
      },
      "source": [
        "df1.tail()"
      ],
      "execution_count": null,
      "outputs": [
        {
          "output_type": "execute_result",
          "data": {
            "text/html": [
              "<div>\n",
              "<style scoped>\n",
              "    .dataframe tbody tr th:only-of-type {\n",
              "        vertical-align: middle;\n",
              "    }\n",
              "\n",
              "    .dataframe tbody tr th {\n",
              "        vertical-align: top;\n",
              "    }\n",
              "\n",
              "    .dataframe thead th {\n",
              "        text-align: right;\n",
              "    }\n",
              "</style>\n",
              "<table border=\"1\" class=\"dataframe\">\n",
              "  <thead>\n",
              "    <tr style=\"text-align: right;\">\n",
              "      <th></th>\n",
              "      <th>Email_ID</th>\n",
              "      <th>Email_Type</th>\n",
              "      <th>Subject_Hotness_Score</th>\n",
              "      <th>Email_Source_Type</th>\n",
              "      <th>Customer_Location</th>\n",
              "      <th>Email_Campaign_Type</th>\n",
              "      <th>Total_Past_Communications</th>\n",
              "      <th>Time_Email_sent_Category</th>\n",
              "      <th>Word_Count</th>\n",
              "      <th>Total_Links</th>\n",
              "      <th>Total_Images</th>\n",
              "      <th>Email_Status</th>\n",
              "    </tr>\n",
              "  </thead>\n",
              "  <tbody>\n",
              "    <tr>\n",
              "      <th>68348</th>\n",
              "      <td>EMA00089995974500</td>\n",
              "      <td>2</td>\n",
              "      <td>0.4</td>\n",
              "      <td>1</td>\n",
              "      <td>F</td>\n",
              "      <td>2</td>\n",
              "      <td>22.0</td>\n",
              "      <td>3</td>\n",
              "      <td>737</td>\n",
              "      <td>16.0</td>\n",
              "      <td>13.0</td>\n",
              "      <td>0</td>\n",
              "    </tr>\n",
              "    <tr>\n",
              "      <th>68349</th>\n",
              "      <td>EMA00089998225300</td>\n",
              "      <td>1</td>\n",
              "      <td>1.3</td>\n",
              "      <td>1</td>\n",
              "      <td>C</td>\n",
              "      <td>2</td>\n",
              "      <td>40.0</td>\n",
              "      <td>2</td>\n",
              "      <td>653</td>\n",
              "      <td>31.0</td>\n",
              "      <td>16.0</td>\n",
              "      <td>0</td>\n",
              "    </tr>\n",
              "    <tr>\n",
              "      <th>68350</th>\n",
              "      <td>EMA00089998436500</td>\n",
              "      <td>1</td>\n",
              "      <td>2.2</td>\n",
              "      <td>2</td>\n",
              "      <td>NaN</td>\n",
              "      <td>2</td>\n",
              "      <td>33.0</td>\n",
              "      <td>2</td>\n",
              "      <td>490</td>\n",
              "      <td>9.0</td>\n",
              "      <td>0.0</td>\n",
              "      <td>0</td>\n",
              "    </tr>\n",
              "    <tr>\n",
              "      <th>68351</th>\n",
              "      <td>EMA00089999168800</td>\n",
              "      <td>1</td>\n",
              "      <td>0.4</td>\n",
              "      <td>1</td>\n",
              "      <td>E</td>\n",
              "      <td>2</td>\n",
              "      <td>50.0</td>\n",
              "      <td>1</td>\n",
              "      <td>733</td>\n",
              "      <td>14.0</td>\n",
              "      <td>4.0</td>\n",
              "      <td>0</td>\n",
              "    </tr>\n",
              "    <tr>\n",
              "      <th>68352</th>\n",
              "      <td>EMA00089999316900</td>\n",
              "      <td>1</td>\n",
              "      <td>1.5</td>\n",
              "      <td>1</td>\n",
              "      <td>G</td>\n",
              "      <td>2</td>\n",
              "      <td>20.0</td>\n",
              "      <td>2</td>\n",
              "      <td>1038</td>\n",
              "      <td>6.0</td>\n",
              "      <td>0.0</td>\n",
              "      <td>0</td>\n",
              "    </tr>\n",
              "  </tbody>\n",
              "</table>\n",
              "</div>"
            ],
            "text/plain": [
              "                Email_ID  Email_Type  ...  Total_Images  Email_Status\n",
              "68348  EMA00089995974500           2  ...          13.0             0\n",
              "68349  EMA00089998225300           1  ...          16.0             0\n",
              "68350  EMA00089998436500           1  ...           0.0             0\n",
              "68351  EMA00089999168800           1  ...           4.0             0\n",
              "68352  EMA00089999316900           1  ...           0.0             0\n",
              "\n",
              "[5 rows x 12 columns]"
            ]
          },
          "metadata": {
            "tags": []
          },
          "execution_count": 18
        }
      ]
    },
    {
      "cell_type": "code",
      "metadata": {
        "colab": {
          "base_uri": "https://localhost:8080/",
          "height": 410
        },
        "id": "dqqad3EsAC3N",
        "outputId": "d9562e35-3214-4bf8-eabf-3e7b761a2239"
      },
      "source": [
        "df1.describe(include='all')"
      ],
      "execution_count": null,
      "outputs": [
        {
          "output_type": "execute_result",
          "data": {
            "text/html": [
              "<div>\n",
              "<style scoped>\n",
              "    .dataframe tbody tr th:only-of-type {\n",
              "        vertical-align: middle;\n",
              "    }\n",
              "\n",
              "    .dataframe tbody tr th {\n",
              "        vertical-align: top;\n",
              "    }\n",
              "\n",
              "    .dataframe thead th {\n",
              "        text-align: right;\n",
              "    }\n",
              "</style>\n",
              "<table border=\"1\" class=\"dataframe\">\n",
              "  <thead>\n",
              "    <tr style=\"text-align: right;\">\n",
              "      <th></th>\n",
              "      <th>Email_ID</th>\n",
              "      <th>Email_Type</th>\n",
              "      <th>Subject_Hotness_Score</th>\n",
              "      <th>Email_Source_Type</th>\n",
              "      <th>Customer_Location</th>\n",
              "      <th>Email_Campaign_Type</th>\n",
              "      <th>Total_Past_Communications</th>\n",
              "      <th>Time_Email_sent_Category</th>\n",
              "      <th>Word_Count</th>\n",
              "      <th>Total_Links</th>\n",
              "      <th>Total_Images</th>\n",
              "      <th>Email_Status</th>\n",
              "    </tr>\n",
              "  </thead>\n",
              "  <tbody>\n",
              "    <tr>\n",
              "      <th>count</th>\n",
              "      <td>68353</td>\n",
              "      <td>68353.000000</td>\n",
              "      <td>68353.000000</td>\n",
              "      <td>68353.000000</td>\n",
              "      <td>56758</td>\n",
              "      <td>68353.000000</td>\n",
              "      <td>61528.000000</td>\n",
              "      <td>68353.000000</td>\n",
              "      <td>68353.000000</td>\n",
              "      <td>66152.000000</td>\n",
              "      <td>66676.000000</td>\n",
              "      <td>68353.000000</td>\n",
              "    </tr>\n",
              "    <tr>\n",
              "      <th>unique</th>\n",
              "      <td>68353</td>\n",
              "      <td>NaN</td>\n",
              "      <td>NaN</td>\n",
              "      <td>NaN</td>\n",
              "      <td>7</td>\n",
              "      <td>NaN</td>\n",
              "      <td>NaN</td>\n",
              "      <td>NaN</td>\n",
              "      <td>NaN</td>\n",
              "      <td>NaN</td>\n",
              "      <td>NaN</td>\n",
              "      <td>NaN</td>\n",
              "    </tr>\n",
              "    <tr>\n",
              "      <th>top</th>\n",
              "      <td>EMA00084569661680</td>\n",
              "      <td>NaN</td>\n",
              "      <td>NaN</td>\n",
              "      <td>NaN</td>\n",
              "      <td>G</td>\n",
              "      <td>NaN</td>\n",
              "      <td>NaN</td>\n",
              "      <td>NaN</td>\n",
              "      <td>NaN</td>\n",
              "      <td>NaN</td>\n",
              "      <td>NaN</td>\n",
              "      <td>NaN</td>\n",
              "    </tr>\n",
              "    <tr>\n",
              "      <th>freq</th>\n",
              "      <td>1</td>\n",
              "      <td>NaN</td>\n",
              "      <td>NaN</td>\n",
              "      <td>NaN</td>\n",
              "      <td>23173</td>\n",
              "      <td>NaN</td>\n",
              "      <td>NaN</td>\n",
              "      <td>NaN</td>\n",
              "      <td>NaN</td>\n",
              "      <td>NaN</td>\n",
              "      <td>NaN</td>\n",
              "      <td>NaN</td>\n",
              "    </tr>\n",
              "    <tr>\n",
              "      <th>mean</th>\n",
              "      <td>NaN</td>\n",
              "      <td>1.285094</td>\n",
              "      <td>1.095481</td>\n",
              "      <td>1.456513</td>\n",
              "      <td>NaN</td>\n",
              "      <td>2.272234</td>\n",
              "      <td>28.933250</td>\n",
              "      <td>1.999298</td>\n",
              "      <td>699.931751</td>\n",
              "      <td>10.429526</td>\n",
              "      <td>3.550678</td>\n",
              "      <td>0.230934</td>\n",
              "    </tr>\n",
              "    <tr>\n",
              "      <th>std</th>\n",
              "      <td>NaN</td>\n",
              "      <td>0.451462</td>\n",
              "      <td>0.997578</td>\n",
              "      <td>0.498109</td>\n",
              "      <td>NaN</td>\n",
              "      <td>0.468680</td>\n",
              "      <td>12.536518</td>\n",
              "      <td>0.631103</td>\n",
              "      <td>271.719440</td>\n",
              "      <td>6.383270</td>\n",
              "      <td>5.596983</td>\n",
              "      <td>0.497032</td>\n",
              "    </tr>\n",
              "    <tr>\n",
              "      <th>min</th>\n",
              "      <td>NaN</td>\n",
              "      <td>1.000000</td>\n",
              "      <td>0.000000</td>\n",
              "      <td>1.000000</td>\n",
              "      <td>NaN</td>\n",
              "      <td>1.000000</td>\n",
              "      <td>0.000000</td>\n",
              "      <td>1.000000</td>\n",
              "      <td>40.000000</td>\n",
              "      <td>1.000000</td>\n",
              "      <td>0.000000</td>\n",
              "      <td>0.000000</td>\n",
              "    </tr>\n",
              "    <tr>\n",
              "      <th>25%</th>\n",
              "      <td>NaN</td>\n",
              "      <td>1.000000</td>\n",
              "      <td>0.200000</td>\n",
              "      <td>1.000000</td>\n",
              "      <td>NaN</td>\n",
              "      <td>2.000000</td>\n",
              "      <td>20.000000</td>\n",
              "      <td>2.000000</td>\n",
              "      <td>521.000000</td>\n",
              "      <td>6.000000</td>\n",
              "      <td>0.000000</td>\n",
              "      <td>0.000000</td>\n",
              "    </tr>\n",
              "    <tr>\n",
              "      <th>50%</th>\n",
              "      <td>NaN</td>\n",
              "      <td>1.000000</td>\n",
              "      <td>0.800000</td>\n",
              "      <td>1.000000</td>\n",
              "      <td>NaN</td>\n",
              "      <td>2.000000</td>\n",
              "      <td>28.000000</td>\n",
              "      <td>2.000000</td>\n",
              "      <td>694.000000</td>\n",
              "      <td>9.000000</td>\n",
              "      <td>0.000000</td>\n",
              "      <td>0.000000</td>\n",
              "    </tr>\n",
              "    <tr>\n",
              "      <th>75%</th>\n",
              "      <td>NaN</td>\n",
              "      <td>2.000000</td>\n",
              "      <td>1.800000</td>\n",
              "      <td>2.000000</td>\n",
              "      <td>NaN</td>\n",
              "      <td>3.000000</td>\n",
              "      <td>38.000000</td>\n",
              "      <td>2.000000</td>\n",
              "      <td>880.000000</td>\n",
              "      <td>14.000000</td>\n",
              "      <td>5.000000</td>\n",
              "      <td>0.000000</td>\n",
              "    </tr>\n",
              "    <tr>\n",
              "      <th>max</th>\n",
              "      <td>NaN</td>\n",
              "      <td>2.000000</td>\n",
              "      <td>5.000000</td>\n",
              "      <td>2.000000</td>\n",
              "      <td>NaN</td>\n",
              "      <td>3.000000</td>\n",
              "      <td>67.000000</td>\n",
              "      <td>3.000000</td>\n",
              "      <td>1316.000000</td>\n",
              "      <td>49.000000</td>\n",
              "      <td>45.000000</td>\n",
              "      <td>2.000000</td>\n",
              "    </tr>\n",
              "  </tbody>\n",
              "</table>\n",
              "</div>"
            ],
            "text/plain": [
              "                 Email_ID    Email_Type  ...  Total_Images  Email_Status\n",
              "count               68353  68353.000000  ...  66676.000000  68353.000000\n",
              "unique              68353           NaN  ...           NaN           NaN\n",
              "top     EMA00084569661680           NaN  ...           NaN           NaN\n",
              "freq                    1           NaN  ...           NaN           NaN\n",
              "mean                  NaN      1.285094  ...      3.550678      0.230934\n",
              "std                   NaN      0.451462  ...      5.596983      0.497032\n",
              "min                   NaN      1.000000  ...      0.000000      0.000000\n",
              "25%                   NaN      1.000000  ...      0.000000      0.000000\n",
              "50%                   NaN      1.000000  ...      0.000000      0.000000\n",
              "75%                   NaN      2.000000  ...      5.000000      0.000000\n",
              "max                   NaN      2.000000  ...     45.000000      2.000000\n",
              "\n",
              "[11 rows x 12 columns]"
            ]
          },
          "metadata": {
            "tags": []
          },
          "execution_count": 19
        }
      ]
    },
    {
      "cell_type": "code",
      "metadata": {
        "colab": {
          "base_uri": "https://localhost:8080/"
        },
        "id": "ZQFBCtmNAGeS",
        "outputId": "8bdc8a0c-fa2e-4778-c212-406ad54a076f"
      },
      "source": [
        "df1.shape"
      ],
      "execution_count": null,
      "outputs": [
        {
          "output_type": "execute_result",
          "data": {
            "text/plain": [
              "(68353, 12)"
            ]
          },
          "metadata": {
            "tags": []
          },
          "execution_count": 20
        }
      ]
    },
    {
      "cell_type": "code",
      "metadata": {
        "colab": {
          "base_uri": "https://localhost:8080/"
        },
        "id": "28zpTezdAcqM",
        "outputId": "1629d08a-80af-43e3-806f-715cc544ac5d"
      },
      "source": [
        "df1.info()"
      ],
      "execution_count": null,
      "outputs": [
        {
          "output_type": "stream",
          "text": [
            "<class 'pandas.core.frame.DataFrame'>\n",
            "RangeIndex: 68353 entries, 0 to 68352\n",
            "Data columns (total 12 columns):\n",
            " #   Column                     Non-Null Count  Dtype  \n",
            "---  ------                     --------------  -----  \n",
            " 0   Email_ID                   68353 non-null  object \n",
            " 1   Email_Type                 68353 non-null  int64  \n",
            " 2   Subject_Hotness_Score      68353 non-null  float64\n",
            " 3   Email_Source_Type          68353 non-null  int64  \n",
            " 4   Customer_Location          56758 non-null  object \n",
            " 5   Email_Campaign_Type        68353 non-null  int64  \n",
            " 6   Total_Past_Communications  61528 non-null  float64\n",
            " 7   Time_Email_sent_Category   68353 non-null  int64  \n",
            " 8   Word_Count                 68353 non-null  int64  \n",
            " 9   Total_Links                66152 non-null  float64\n",
            " 10  Total_Images               66676 non-null  float64\n",
            " 11  Email_Status               68353 non-null  int64  \n",
            "dtypes: float64(4), int64(6), object(2)\n",
            "memory usage: 6.3+ MB\n"
          ],
          "name": "stdout"
        }
      ]
    },
    {
      "cell_type": "code",
      "metadata": {
        "colab": {
          "base_uri": "https://localhost:8080/"
        },
        "id": "pT8WZsJBfY7G",
        "outputId": "d3f54d1b-1972-4136-9cf2-1330dd277190"
      },
      "source": [
        "df1.isnull().sum()"
      ],
      "execution_count": null,
      "outputs": [
        {
          "output_type": "execute_result",
          "data": {
            "text/plain": [
              "Email_ID                         0\n",
              "Email_Type                       0\n",
              "Subject_Hotness_Score            0\n",
              "Email_Source_Type                0\n",
              "Customer_Location            11595\n",
              "Email_Campaign_Type              0\n",
              "Total_Past_Communications     6825\n",
              "Time_Email_sent_Category         0\n",
              "Word_Count                       0\n",
              "Total_Links                   2201\n",
              "Total_Images                  1677\n",
              "Email_Status                     0\n",
              "dtype: int64"
            ]
          },
          "metadata": {
            "tags": []
          },
          "execution_count": 22
        }
      ]
    },
    {
      "cell_type": "code",
      "metadata": {
        "colab": {
          "base_uri": "https://localhost:8080/"
        },
        "id": "KjhCMD3xBEMv",
        "outputId": "a30203dc-e5f5-43a9-80ab-8880ad5c8aa9"
      },
      "source": [
        "df1.shape"
      ],
      "execution_count": null,
      "outputs": [
        {
          "output_type": "execute_result",
          "data": {
            "text/plain": [
              "(68353, 12)"
            ]
          },
          "metadata": {
            "tags": []
          },
          "execution_count": 23
        }
      ]
    },
    {
      "cell_type": "code",
      "metadata": {
        "colab": {
          "base_uri": "https://localhost:8080/"
        },
        "id": "mwH1wN7bfmb7",
        "outputId": "8dd4a2c4-9c5a-4a86-9992-af8d4631ff18"
      },
      "source": [
        "import numpy as np\n",
        "\n",
        "ignored = len(df1[df1['Email_Status']==0])\n",
        "read  = len(df1[df1['Email_Status']==1])\n",
        "acknowledge = len(df1[df1['Email_Status']==2])\n",
        "\n",
        "print(\"IGNORED:\",ignored)\n",
        "print(\"READ:\",read)\n",
        "print(\"Acknowledge:\",acknowledge)"
      ],
      "execution_count": null,
      "outputs": [
        {
          "output_type": "stream",
          "text": [
            "IGNORED: 54941\n",
            "READ: 11039\n",
            "Acknowledge: 2373\n"
          ],
          "name": "stdout"
        }
      ]
    },
    {
      "cell_type": "code",
      "metadata": {
        "colab": {
          "base_uri": "https://localhost:8080/",
          "height": 343
        },
        "id": "6NLAjjVBB78w",
        "outputId": "965ec5b1-925c-4a18-f595-940694e46668"
      },
      "source": [
        "labels = ['IGNORED','READ','ACKNOWLEDGE']\n",
        "li = [ignored,read,acknowledge]\n",
        "\n",
        "index = np.arange(len(labels))\n",
        "\n",
        "plt.bar(index,li)\n",
        "plt.xlabel('Mail-Tracking',fontsize =12)\n",
        "plt.ylabel('Count',fontsize =12)\n",
        "plt.xticks(index,labels,fontsize=12,rotation=40)\n",
        "plt.show()"
      ],
      "execution_count": null,
      "outputs": [
        {
          "output_type": "display_data",
          "data": {
            "image/png": "[encoded data removed]",
            "text/plain": [
              "<Figure size 432x288 with 1 Axes>"
            ]
          },
          "metadata": {
            "tags": [],
            "needs_background": "light"
          }
        }
      ]
    },
    {
      "cell_type": "code",
      "metadata": {
        "id": "lZtIz141HBcj"
      },
      "source": [
        "import seaborn as sns"
      ],
      "execution_count": null,
      "outputs": []
    },
    {
      "cell_type": "code",
      "metadata": {
        "colab": {
          "base_uri": "https://localhost:8080/",
          "height": 351
        },
        "id": "ZMHDcP-pJGp0",
        "outputId": "a1ef14cf-0c41-445c-f4df-fa372ed468df"
      },
      "source": [
        "sns.countplot(df1['Time_Email_sent_Category'])"
      ],
      "execution_count": null,
      "outputs": [
        {
          "output_type": "stream",
          "text": [
            "/usr/local/lib/python3.7/dist-packages/seaborn/_decorators.py:43: FutureWarning: Pass the following variable as a keyword arg: x. From version 0.12, the only valid positional argument will be `data`, and passing other arguments without an explicit keyword will result in an error or misinterpretation.\n",
            "  FutureWarning\n"
          ],
          "name": "stderr"
        },
        {
          "output_type": "execute_result",
          "data": {
            "text/plain": [
              "<matplotlib.axes._subplots.AxesSubplot at 0x7f9cad573050>"
            ]
          },
          "metadata": {
            "tags": []
          },
          "execution_count": 27
        },
        {
          "output_type": "display_data",
          "data": {
            "image/png": "[encoded data removed]",
            "text/plain": [
              "<Figure size 432x288 with 1 Axes>"
            ]
          },
          "metadata": {
            "tags": [],
            "needs_background": "light"
          }
        }
      ]
    },
    {
      "cell_type": "code",
      "metadata": {
        "colab": {
          "base_uri": "https://localhost:8080/",
          "height": 351
        },
        "id": "e-A08QdpfuCc",
        "outputId": "808cb0d2-7150-45d1-b01a-e20e02863e93"
      },
      "source": [
        "sns.countplot(df1['Email_Type'])"
      ],
      "execution_count": null,
      "outputs": [
        {
          "output_type": "stream",
          "text": [
            "/usr/local/lib/python3.7/dist-packages/seaborn/_decorators.py:43: FutureWarning: Pass the following variable as a keyword arg: x. From version 0.12, the only valid positional argument will be `data`, and passing other arguments without an explicit keyword will result in an error or misinterpretation.\n",
            "  FutureWarning\n"
          ],
          "name": "stderr"
        },
        {
          "output_type": "execute_result",
          "data": {
            "text/plain": [
              "<matplotlib.axes._subplots.AxesSubplot at 0x7f9c9e0bbd10>"
            ]
          },
          "metadata": {
            "tags": []
          },
          "execution_count": 28
        },
        {
          "output_type": "display_data",
          "data": {
            "image/png": "[encoded data removed]",
            "text/plain": [
              "<Figure size 432x288 with 1 Axes>"
            ]
          },
          "metadata": {
            "tags": [],
            "needs_background": "light"
          }
        }
      ]
    },
    {
      "cell_type": "code",
      "metadata": {
        "colab": {
          "base_uri": "https://localhost:8080/",
          "height": 351
        },
        "id": "dHdqh34rf0YX",
        "outputId": "46874476-3073-4e33-add9-541a15b7ad9f"
      },
      "source": [
        "sns.countplot(df1['Email_Source_Type'])"
      ],
      "execution_count": null,
      "outputs": [
        {
          "output_type": "stream",
          "text": [
            "/usr/local/lib/python3.7/dist-packages/seaborn/_decorators.py:43: FutureWarning: Pass the following variable as a keyword arg: x. From version 0.12, the only valid positional argument will be `data`, and passing other arguments without an explicit keyword will result in an error or misinterpretation.\n",
            "  FutureWarning\n"
          ],
          "name": "stderr"
        },
        {
          "output_type": "execute_result",
          "data": {
            "text/plain": [
              "<matplotlib.axes._subplots.AxesSubplot at 0x7f9c9e017810>"
            ]
          },
          "metadata": {
            "tags": []
          },
          "execution_count": 29
        },
        {
          "output_type": "display_data",
          "data": {
            "image/png": "[encoded data removed]",
            "text/plain": [
              "<Figure size 432x288 with 1 Axes>"
            ]
          },
          "metadata": {
            "tags": [],
            "needs_background": "light"
          }
        }
      ]
    },
    {
      "cell_type": "code",
      "metadata": {
        "colab": {
          "base_uri": "https://localhost:8080/",
          "height": 351
        },
        "id": "kdLD4Gw-gB4B",
        "outputId": "1cc56bf4-4a74-4f7a-c9fb-dc7e2e6c7498"
      },
      "source": [
        "sns.countplot(df1['Customer_Location'])"
      ],
      "execution_count": null,
      "outputs": [
        {
          "output_type": "stream",
          "text": [
            "/usr/local/lib/python3.7/dist-packages/seaborn/_decorators.py:43: FutureWarning: Pass the following variable as a keyword arg: x. From version 0.12, the only valid positional argument will be `data`, and passing other arguments without an explicit keyword will result in an error or misinterpretation.\n",
            "  FutureWarning\n"
          ],
          "name": "stderr"
        },
        {
          "output_type": "execute_result",
          "data": {
            "text/plain": [
              "<matplotlib.axes._subplots.AxesSubplot at 0x7f9c9df81210>"
            ]
          },
          "metadata": {
            "tags": []
          },
          "execution_count": 30
        },
        {
          "output_type": "display_data",
          "data": {
            "image/png": "[encoded data removed]",
            "text/plain": [
              "<Figure size 432x288 with 1 Axes>"
            ]
          },
          "metadata": {
            "tags": [],
            "needs_background": "light"
          }
        }
      ]
    },
    {
      "cell_type": "code",
      "metadata": {
        "colab": {
          "base_uri": "https://localhost:8080/",
          "height": 352
        },
        "id": "pfIBSwa2gGxT",
        "outputId": "66a2eddd-05bc-458e-a3e1-57f70e4687df"
      },
      "source": [
        "sns.countplot(df1['Email_Campaign_Type'])"
      ],
      "execution_count": null,
      "outputs": [
        {
          "output_type": "stream",
          "text": [
            "/usr/local/lib/python3.7/dist-packages/seaborn/_decorators.py:43: FutureWarning: Pass the following variable as a keyword arg: x. From version 0.12, the only valid positional argument will be `data`, and passing other arguments without an explicit keyword will result in an error or misinterpretation.\n",
            "  FutureWarning\n"
          ],
          "name": "stderr"
        },
        {
          "output_type": "execute_result",
          "data": {
            "text/plain": [
              "<matplotlib.axes._subplots.AxesSubplot at 0x7f9c9df75210>"
            ]
          },
          "metadata": {
            "tags": []
          },
          "execution_count": 31
        },
        {
          "output_type": "display_data",
          "data": {
            "image/png": "[encoded data removed]",
            "text/plain": [
              "<Figure size 432x288 with 1 Axes>"
            ]
          },
          "metadata": {
            "tags": [],
            "needs_background": "light"
          }
        }
      ]
    },
    {
      "cell_type": "code",
      "metadata": {
        "colab": {
          "base_uri": "https://localhost:8080/",
          "height": 297
        },
        "id": "XDSUROrOgThZ",
        "outputId": "d79b95e9-6db0-433e-a7b5-d7752bf60a30"
      },
      "source": [
        "sns.countplot(x='Customer_Location',hue='Email_Status', data=df1)"
      ],
      "execution_count": null,
      "outputs": [
        {
          "output_type": "execute_result",
          "data": {
            "text/plain": [
              "<matplotlib.axes._subplots.AxesSubplot at 0x7f9c9df7fc50>"
            ]
          },
          "metadata": {
            "tags": []
          },
          "execution_count": 32
        },
        {
          "output_type": "display_data",
          "data": {
            "image/png": "[encoded data removed]",
            "text/plain": [
              "<Figure size 432x288 with 1 Axes>"
            ]
          },
          "metadata": {
            "tags": [],
            "needs_background": "light"
          }
        }
      ]
    },
    {
      "cell_type": "code",
      "metadata": {
        "colab": {
          "base_uri": "https://localhost:8080/"
        },
        "id": "-O0dVtCgknQz",
        "outputId": "223e6014-736f-498b-f46a-bfc78d600cce"
      },
      "source": [
        "print(df1.axes)\n",
        "df1 =df1.drop(['Customer_Location','Email_ID'], axis = 1)\n",
        "df1.shape"
      ],
      "execution_count": null,
      "outputs": [
        {
          "output_type": "stream",
          "text": [
            "[RangeIndex(start=0, stop=68353, step=1), Index(['Email_ID', 'Email_Type', 'Subject_Hotness_Score', 'Email_Source_Type',\n",
            "       'Customer_Location', 'Email_Campaign_Type', 'Total_Past_Communications',\n",
            "       'Time_Email_sent_Category', 'Word_Count', 'Total_Links', 'Total_Images',\n",
            "       'Email_Status'],\n",
            "      dtype='object')]\n"
          ],
          "name": "stdout"
        },
        {
          "output_type": "execute_result",
          "data": {
            "text/plain": [
              "(68353, 10)"
            ]
          },
          "metadata": {
            "tags": []
          },
          "execution_count": 33
        }
      ]
    },
    {
      "cell_type": "code",
      "metadata": {
        "colab": {
          "base_uri": "https://localhost:8080/",
          "height": 297
        },
        "id": "v0SExeJjm_Rs",
        "outputId": "b41e8a64-b819-43cf-8bc1-88e3270aa5bb"
      },
      "source": [
        "sns.countplot(x='Time_Email_sent_Category',hue='Email_Status', data=df1)"
      ],
      "execution_count": null,
      "outputs": [
        {
          "output_type": "execute_result",
          "data": {
            "text/plain": [
              "<matplotlib.axes._subplots.AxesSubplot at 0x7f9c9deac850>"
            ]
          },
          "metadata": {
            "tags": []
          },
          "execution_count": 34
        },
        {
          "output_type": "display_data",
          "data": {
            "image/png": "[encoded data removed]",
            "text/plain": [
              "<Figure size 432x288 with 1 Axes>"
            ]
          },
          "metadata": {
            "tags": [],
            "needs_background": "light"
          }
        }
      ]
    },
    {
      "cell_type": "code",
      "metadata": {
        "colab": {
          "base_uri": "https://localhost:8080/",
          "height": 297
        },
        "id": "VN-5PteOmvIe",
        "outputId": "505305cf-cf21-437d-c99a-b3b6306dd8f3"
      },
      "source": [
        "sns.countplot(x='Email_Campaign_Type',hue='Email_Status', data=df1)"
      ],
      "execution_count": null,
      "outputs": [
        {
          "output_type": "execute_result",
          "data": {
            "text/plain": [
              "<matplotlib.axes._subplots.AxesSubplot at 0x7f9c9de3e6d0>"
            ]
          },
          "metadata": {
            "tags": []
          },
          "execution_count": 35
        },
        {
          "output_type": "display_data",
          "data": {
            "image/png": "[encoded data removed]",
            "text/plain": [
              "<Figure size 432x288 with 1 Axes>"
            ]
          },
          "metadata": {
            "tags": [],
            "needs_background": "light"
          }
        }
      ]
    },
    {
      "cell_type": "code",
      "metadata": {
        "colab": {
          "base_uri": "https://localhost:8080/",
          "height": 297
        },
        "id": "bNWGocYumVfG",
        "outputId": "e4b0c17b-a809-47af-947d-1925a2d5244f"
      },
      "source": [
        "sns.countplot(x='Email_Source_Type',hue='Email_Status', data=df1)"
      ],
      "execution_count": null,
      "outputs": [
        {
          "output_type": "execute_result",
          "data": {
            "text/plain": [
              "<matplotlib.axes._subplots.AxesSubplot at 0x7f9c9deb1f50>"
            ]
          },
          "metadata": {
            "tags": []
          },
          "execution_count": 36
        },
        {
          "output_type": "display_data",
          "data": {
            "image/png": "[encoded data removed]",
            "text/plain": [
              "<Figure size 432x288 with 1 Axes>"
            ]
          },
          "metadata": {
            "tags": [],
            "needs_background": "light"
          }
        }
      ]
    },
    {
      "cell_type": "code",
      "metadata": {
        "colab": {
          "base_uri": "https://localhost:8080/",
          "height": 297
        },
        "id": "gC0MwEA5mHs4",
        "outputId": "60c4ac1e-97f4-4254-fbe4-f70db0a9f847"
      },
      "source": [
        "sns.countplot(x='Email_Type',hue='Email_Status', data=df1)"
      ],
      "execution_count": null,
      "outputs": [
        {
          "output_type": "execute_result",
          "data": {
            "text/plain": [
              "<matplotlib.axes._subplots.AxesSubplot at 0x7f9c9dd3ff50>"
            ]
          },
          "metadata": {
            "tags": []
          },
          "execution_count": 37
        },
        {
          "output_type": "display_data",
          "data": {
            "image/png": "[encoded data removed]",
            "text/plain": [
              "<Figure size 432x288 with 1 Axes>"
            ]
          },
          "metadata": {
            "tags": [],
            "needs_background": "light"
          }
        }
      ]
    },
    {
      "cell_type": "code",
      "metadata": {
        "colab": {
          "base_uri": "https://localhost:8080/"
        },
        "id": "nF4L0902lKrw",
        "outputId": "b1c5e894-e1e2-437c-d8d6-eb97b7402b41"
      },
      "source": [
        "df1.info()"
      ],
      "execution_count": null,
      "outputs": [
        {
          "output_type": "stream",
          "text": [
            "<class 'pandas.core.frame.DataFrame'>\n",
            "RangeIndex: 68353 entries, 0 to 68352\n",
            "Data columns (total 10 columns):\n",
            " #   Column                     Non-Null Count  Dtype  \n",
            "---  ------                     --------------  -----  \n",
            " 0   Email_Type                 68353 non-null  int64  \n",
            " 1   Subject_Hotness_Score      68353 non-null  float64\n",
            " 2   Email_Source_Type          68353 non-null  int64  \n",
            " 3   Email_Campaign_Type        68353 non-null  int64  \n",
            " 4   Total_Past_Communications  61528 non-null  float64\n",
            " 5   Time_Email_sent_Category   68353 non-null  int64  \n",
            " 6   Word_Count                 68353 non-null  int64  \n",
            " 7   Total_Links                66152 non-null  float64\n",
            " 8   Total_Images               66676 non-null  float64\n",
            " 9   Email_Status               68353 non-null  int64  \n",
            "dtypes: float64(4), int64(6)\n",
            "memory usage: 5.2 MB\n"
          ],
          "name": "stdout"
        }
      ]
    },
    {
      "cell_type": "code",
      "metadata": {
        "colab": {
          "base_uri": "https://localhost:8080/",
          "height": 386
        },
        "id": "ow_E8tSFzEJa",
        "outputId": "c7fd594a-1533-4dd8-e1f5-60dcde19d706"
      },
      "source": [
        "sns.displot(df1['Total_Past_Communications'])\n"
      ],
      "execution_count": null,
      "outputs": [
        {
          "output_type": "execute_result",
          "data": {
            "text/plain": [
              "<seaborn.axisgrid.FacetGrid at 0x7f9c9dcfce50>"
            ]
          },
          "metadata": {
            "tags": []
          },
          "execution_count": 39
        },
        {
          "output_type": "display_data",
          "data": {
            "image/png": "[encoded data removed]",
            "text/plain": [
              "<Figure size 360x360 with 1 Axes>"
            ]
          },
          "metadata": {
            "tags": [],
            "needs_background": "light"
          }
        }
      ]
    },
    {
      "cell_type": "code",
      "metadata": {
        "colab": {
          "base_uri": "https://localhost:8080/",
          "height": 386
        },
        "id": "OMnTBwrQytXp",
        "outputId": "8c5f0ec1-7386-4cac-ca17-3191f0cc2cae"
      },
      "source": [
        "sns.displot(df1['Word_Count'])"
      ],
      "execution_count": null,
      "outputs": [
        {
          "output_type": "execute_result",
          "data": {
            "text/plain": [
              "<seaborn.axisgrid.FacetGrid at 0x7f9c9db70c50>"
            ]
          },
          "metadata": {
            "tags": []
          },
          "execution_count": 40
        },
        {
          "output_type": "display_data",
          "data": {
            "image/png": "[encoded data removed]",
            "text/plain": [
              "<Figure size 360x360 with 1 Axes>"
            ]
          },
          "metadata": {
            "tags": [],
            "needs_background": "light"
          }
        }
      ]
    },
    {
      "cell_type": "code",
      "metadata": {
        "colab": {
          "base_uri": "https://localhost:8080/",
          "height": 386
        },
        "id": "GQXy8R6byDkN",
        "outputId": "146ae891-98ae-4c9d-8f3b-4753764b5152"
      },
      "source": [
        "sns.displot(df1['Total_Links'])"
      ],
      "execution_count": null,
      "outputs": [
        {
          "output_type": "execute_result",
          "data": {
            "text/plain": [
              "<seaborn.axisgrid.FacetGrid at 0x7f9c95229810>"
            ]
          },
          "metadata": {
            "tags": []
          },
          "execution_count": 41
        },
        {
          "output_type": "display_data",
          "data": {
            "image/png": "[encoded data removed]",
            "text/plain": [
              "<Figure size 360x360 with 1 Axes>"
            ]
          },
          "metadata": {
            "tags": [],
            "needs_background": "light"
          }
        }
      ]
    },
    {
      "cell_type": "code",
      "metadata": {
        "colab": {
          "base_uri": "https://localhost:8080/",
          "height": 351
        },
        "id": "rzV7M_Lxx0um",
        "outputId": "0862dc95-9381-4153-a5f2-1009ff029e01"
      },
      "source": [
        "sns.distplot(df1['Total_Images'])"
      ],
      "execution_count": null,
      "outputs": [
        {
          "output_type": "stream",
          "text": [
            "/usr/local/lib/python3.7/dist-packages/seaborn/distributions.py:2557: FutureWarning: `distplot` is a deprecated function and will be removed in a future version. Please adapt your code to use either `displot` (a figure-level function with similar flexibility) or `histplot` (an axes-level function for histograms).\n",
            "  warnings.warn(msg, FutureWarning)\n"
          ],
          "name": "stderr"
        },
        {
          "output_type": "execute_result",
          "data": {
            "text/plain": [
              "<matplotlib.axes._subplots.AxesSubplot at 0x7f9c9db26890>"
            ]
          },
          "metadata": {
            "tags": []
          },
          "execution_count": 42
        },
        {
          "output_type": "display_data",
          "data": {
            "image/png": "[encoded data removed]",
            "text/plain": [
              "<Figure size 432x288 with 1 Axes>"
            ]
          },
          "metadata": {
            "tags": [],
            "needs_background": "light"
          }
        }
      ]
    },
    {
      "cell_type": "code",
      "metadata": {
        "colab": {
          "base_uri": "https://localhost:8080/",
          "height": 351
        },
        "id": "5koscGlYrdLc",
        "outputId": "6807edcc-1b45-4b99-abe1-3a6d3f7a5984"
      },
      "source": [
        "sns.distplot(df1['Subject_Hotness_Score'])"
      ],
      "execution_count": null,
      "outputs": [
        {
          "output_type": "stream",
          "text": [
            "/usr/local/lib/python3.7/dist-packages/seaborn/distributions.py:2557: FutureWarning: `distplot` is a deprecated function and will be removed in a future version. Please adapt your code to use either `displot` (a figure-level function with similar flexibility) or `histplot` (an axes-level function for histograms).\n",
            "  warnings.warn(msg, FutureWarning)\n"
          ],
          "name": "stderr"
        },
        {
          "output_type": "execute_result",
          "data": {
            "text/plain": [
              "<matplotlib.axes._subplots.AxesSubplot at 0x7f9c92ed0050>"
            ]
          },
          "metadata": {
            "tags": []
          },
          "execution_count": 43
        },
        {
          "output_type": "display_data",
          "data": {
            "image/png": "[encoded data removed]",
            "text/plain": [
              "<Figure size 432x288 with 1 Axes>"
            ]
          },
          "metadata": {
            "tags": [],
            "needs_background": "light"
          }
        }
      ]
    },
    {
      "cell_type": "code",
      "metadata": {
        "id": "_91twGpj-Kqm"
      },
      "source": [
        "df1['Total_Links'] = df1['Total_Links'].fillna(df1['Total_Links'].mode()[0])"
      ],
      "execution_count": null,
      "outputs": []
    },
    {
      "cell_type": "code",
      "metadata": {
        "id": "qUwNYzY2-Zhc"
      },
      "source": [
        "df1['Total_Past_Communications'].fillna(int(df1['Total_Past_Communications'].mean()), inplace=True)"
      ],
      "execution_count": null,
      "outputs": []
    },
    {
      "cell_type": "code",
      "metadata": {
        "id": "lG3dxli4-8Cd"
      },
      "source": [
        "df1['Total_Images'] = df1['Total_Images'].fillna(df1['Total_Images'].mode()[0])"
      ],
      "execution_count": null,
      "outputs": []
    },
    {
      "cell_type": "code",
      "metadata": {
        "colab": {
          "base_uri": "https://localhost:8080/"
        },
        "id": "pa1Xywp4_GMu",
        "outputId": "7d1d1e95-6957-40f1-84c8-1e052cc7ac20"
      },
      "source": [
        "df1.info()"
      ],
      "execution_count": null,
      "outputs": [
        {
          "output_type": "stream",
          "text": [
            "<class 'pandas.core.frame.DataFrame'>\n",
            "RangeIndex: 68353 entries, 0 to 68352\n",
            "Data columns (total 10 columns):\n",
            " #   Column                     Non-Null Count  Dtype  \n",
            "---  ------                     --------------  -----  \n",
            " 0   Email_Type                 68353 non-null  int64  \n",
            " 1   Subject_Hotness_Score      68353 non-null  float64\n",
            " 2   Email_Source_Type          68353 non-null  int64  \n",
            " 3   Email_Campaign_Type        68353 non-null  int64  \n",
            " 4   Total_Past_Communications  68353 non-null  float64\n",
            " 5   Time_Email_sent_Category   68353 non-null  int64  \n",
            " 6   Word_Count                 68353 non-null  int64  \n",
            " 7   Total_Links                68353 non-null  float64\n",
            " 8   Total_Images               68353 non-null  float64\n",
            " 9   Email_Status               68353 non-null  int64  \n",
            "dtypes: float64(4), int64(6)\n",
            "memory usage: 5.2 MB\n"
          ],
          "name": "stdout"
        }
      ]
    },
    {
      "cell_type": "code",
      "metadata": {
        "colab": {
          "base_uri": "https://localhost:8080/"
        },
        "id": "noiImMW_yEi3",
        "outputId": "80f5aa3f-8991-4352-c487-942b6a2c82f7"
      },
      "source": [
        "df1.isnull().sum()"
      ],
      "execution_count": null,
      "outputs": [
        {
          "output_type": "execute_result",
          "data": {
            "text/plain": [
              "Email_Type                   0\n",
              "Subject_Hotness_Score        0\n",
              "Email_Source_Type            0\n",
              "Email_Campaign_Type          0\n",
              "Total_Past_Communications    0\n",
              "Time_Email_sent_Category     0\n",
              "Word_Count                   0\n",
              "Total_Links                  0\n",
              "Total_Images                 0\n",
              "Email_Status                 0\n",
              "dtype: int64"
            ]
          },
          "metadata": {
            "tags": []
          },
          "execution_count": 48
        }
      ]
    },
    {
      "cell_type": "code",
      "metadata": {
        "colab": {
          "base_uri": "https://localhost:8080/",
          "height": 351
        },
        "id": "kQPI7yUZ4Tpk",
        "outputId": "58abe49a-1b11-43bd-9849-94e162b485d6"
      },
      "source": [
        "sns.boxenplot(df1['Word_Count'])"
      ],
      "execution_count": null,
      "outputs": [
        {
          "output_type": "stream",
          "text": [
            "/usr/local/lib/python3.7/dist-packages/seaborn/_decorators.py:43: FutureWarning: Pass the following variable as a keyword arg: x. From version 0.12, the only valid positional argument will be `data`, and passing other arguments without an explicit keyword will result in an error or misinterpretation.\n",
            "  FutureWarning\n"
          ],
          "name": "stderr"
        },
        {
          "output_type": "execute_result",
          "data": {
            "text/plain": [
              "<matplotlib.axes._subplots.AxesSubplot at 0x7f9c92dcf1d0>"
            ]
          },
          "metadata": {
            "tags": []
          },
          "execution_count": 49
        },
        {
          "output_type": "display_data",
          "data": {
            "image/png": "[encoded data removed]",
            "text/plain": [
              "<Figure size 432x288 with 1 Axes>"
            ]
          },
          "metadata": {
            "tags": [],
            "needs_background": "light"
          }
        }
      ]
    },
    {
      "cell_type": "code",
      "metadata": {
        "colab": {
          "base_uri": "https://localhost:8080/",
          "height": 351
        },
        "id": "jt1G_GWS37AN",
        "outputId": "d19d3c29-6462-4299-c0d2-6c5b63a2501a"
      },
      "source": [
        "sns.boxplot(df1['Total_Links'])"
      ],
      "execution_count": null,
      "outputs": [
        {
          "output_type": "stream",
          "text": [
            "/usr/local/lib/python3.7/dist-packages/seaborn/_decorators.py:43: FutureWarning: Pass the following variable as a keyword arg: x. From version 0.12, the only valid positional argument will be `data`, and passing other arguments without an explicit keyword will result in an error or misinterpretation.\n",
            "  FutureWarning\n"
          ],
          "name": "stderr"
        },
        {
          "output_type": "execute_result",
          "data": {
            "text/plain": [
              "<matplotlib.axes._subplots.AxesSubplot at 0x7f9c92d4df10>"
            ]
          },
          "metadata": {
            "tags": []
          },
          "execution_count": 50
        },
        {
          "output_type": "display_data",
          "data": {
            "image/png": "[encoded data removed]",
            "text/plain": [
              "<Figure size 432x288 with 1 Axes>"
            ]
          },
          "metadata": {
            "tags": [],
            "needs_background": "light"
          }
        }
      ]
    },
    {
      "cell_type": "code",
      "metadata": {
        "colab": {
          "base_uri": "https://localhost:8080/",
          "height": 351
        },
        "id": "Qmkyn-GY3WXU",
        "outputId": "c82fcdf6-d955-405d-c0f0-ccf0eb42529d"
      },
      "source": [
        "sns.boxplot(df1['Total_Images'])"
      ],
      "execution_count": null,
      "outputs": [
        {
          "output_type": "stream",
          "text": [
            "/usr/local/lib/python3.7/dist-packages/seaborn/_decorators.py:43: FutureWarning: Pass the following variable as a keyword arg: x. From version 0.12, the only valid positional argument will be `data`, and passing other arguments without an explicit keyword will result in an error or misinterpretation.\n",
            "  FutureWarning\n"
          ],
          "name": "stderr"
        },
        {
          "output_type": "execute_result",
          "data": {
            "text/plain": [
              "<matplotlib.axes._subplots.AxesSubplot at 0x7f9c92d29e10>"
            ]
          },
          "metadata": {
            "tags": []
          },
          "execution_count": 51
        },
        {
          "output_type": "display_data",
          "data": {
            "image/png": "[encoded data removed]",
            "text/plain": [
              "<Figure size 432x288 with 1 Axes>"
            ]
          },
          "metadata": {
            "tags": [],
            "needs_background": "light"
          }
        }
      ]
    },
    {
      "cell_type": "code",
      "metadata": {
        "colab": {
          "base_uri": "https://localhost:8080/",
          "height": 351
        },
        "id": "JJD0ZAA23FNV",
        "outputId": "84eb3e3a-a4ad-4e57-8649-5b3f78784011"
      },
      "source": [
        "sns.boxplot(df['Subject_Hotness_Score'])"
      ],
      "execution_count": null,
      "outputs": [
        {
          "output_type": "stream",
          "text": [
            "/usr/local/lib/python3.7/dist-packages/seaborn/_decorators.py:43: FutureWarning: Pass the following variable as a keyword arg: x. From version 0.12, the only valid positional argument will be `data`, and passing other arguments without an explicit keyword will result in an error or misinterpretation.\n",
            "  FutureWarning\n"
          ],
          "name": "stderr"
        },
        {
          "output_type": "execute_result",
          "data": {
            "text/plain": [
              "<matplotlib.axes._subplots.AxesSubplot at 0x7f9c92ca2650>"
            ]
          },
          "metadata": {
            "tags": []
          },
          "execution_count": 52
        },
        {
          "output_type": "display_data",
          "data": {
            "image/png": "[encoded data removed]",
            "text/plain": [
              "<Figure size 432x288 with 1 Axes>"
            ]
          },
          "metadata": {
            "tags": [],
            "needs_background": "light"
          }
        }
      ]
    },
    {
      "cell_type": "code",
      "metadata": {
        "colab": {
          "base_uri": "https://localhost:8080/",
          "height": 351
        },
        "id": "bIm81Tyu0rlM",
        "outputId": "de3b2780-52bf-4e17-f417-73d608aef634"
      },
      "source": [
        "sns.boxplot(df['Total_Past_Communications'])"
      ],
      "execution_count": null,
      "outputs": [
        {
          "output_type": "stream",
          "text": [
            "/usr/local/lib/python3.7/dist-packages/seaborn/_decorators.py:43: FutureWarning: Pass the following variable as a keyword arg: x. From version 0.12, the only valid positional argument will be `data`, and passing other arguments without an explicit keyword will result in an error or misinterpretation.\n",
            "  FutureWarning\n"
          ],
          "name": "stderr"
        },
        {
          "output_type": "execute_result",
          "data": {
            "text/plain": [
              "<matplotlib.axes._subplots.AxesSubplot at 0x7f9c92c12850>"
            ]
          },
          "metadata": {
            "tags": []
          },
          "execution_count": 53
        },
        {
          "output_type": "display_data",
          "data": {
            "image/png": "[encoded data removed]",
            "text/plain": [
              "<Figure size 432x288 with 1 Axes>"
            ]
          },
          "metadata": {
            "tags": [],
            "needs_background": "light"
          }
        }
      ]
    },
    {
      "cell_type": "code",
      "metadata": {
        "id": "mGXdIqKoLO9X"
      },
      "source": [
        "import scipy.stats as stats"
      ],
      "execution_count": null,
      "outputs": []
    },
    {
      "cell_type": "code",
      "metadata": {
        "colab": {
          "base_uri": "https://localhost:8080/",
          "height": 669
        },
        "id": "cYJ6E1DOfr_z",
        "outputId": "54f0b01b-eedd-4210-d818-5315cff72287"
      },
      "source": [
        "import seaborn as sc\n",
        "\n",
        "X2 = df1.iloc[:,1:7]\n",
        "Y2 = df1.iloc[:,-1]\n",
        "\n",
        "corrmat  = df1.corr()\n",
        "top_corr_features = corrmat.index\n",
        "plt.figure(figsize=(9,9))\n",
        "\n",
        "g= sc.heatmap(df1[top_corr_features].corr(),annot = True,cmap =\"RdYlGn\")\n",
        "\n",
        "X_val = df1.iloc[:,1:7]\n",
        "Y_val = df1.iloc[:,-1]\n",
        "Y_val = Y_val.astype('int')\n",
        "\n",
        "#X_train,X_test,Y_train,Y_test = train_test_split(X_val,Y_val,test_size=0.35,random_state = 32)"
      ],
      "execution_count": null,
      "outputs": [
        {
          "output_type": "display_data",
          "data": {
            "image/png": "[encoded data removed]",
            "text/plain": [
              "<Figure size 648x648 with 2 Axes>"
            ]
          },
          "metadata": {
            "tags": [],
            "needs_background": "light"
          }
        }
      ]
    },
    {
      "cell_type": "code",
      "metadata": {
        "id": "BIDCP0r-CXqX"
      },
      "source": [
        "df1['links&images']=df1['Total_Links']+df1['Total_Images']"
      ],
      "execution_count": null,
      "outputs": []
    },
    {
      "cell_type": "code",
      "metadata": {
        "colab": {
          "base_uri": "https://localhost:8080/",
          "height": 350
        },
        "id": "PAejArRTOYG0",
        "outputId": "92529d93-b77a-4022-c78a-a65352e8374f"
      },
      "source": [
        "sns.boxplot(df1['links&images'])"
      ],
      "execution_count": null,
      "outputs": [
        {
          "output_type": "stream",
          "text": [
            "/usr/local/lib/python3.7/dist-packages/seaborn/_decorators.py:43: FutureWarning: Pass the following variable as a keyword arg: x. From version 0.12, the only valid positional argument will be `data`, and passing other arguments without an explicit keyword will result in an error or misinterpretation.\n",
            "  FutureWarning\n"
          ],
          "name": "stderr"
        },
        {
          "output_type": "execute_result",
          "data": {
            "text/plain": [
              "<matplotlib.axes._subplots.AxesSubplot at 0x7f9c929c4790>"
            ]
          },
          "metadata": {
            "tags": []
          },
          "execution_count": 58
        },
        {
          "output_type": "display_data",
          "data": {
            "image/png": "[encoded data removed]",
            "text/plain": [
              "<Figure size 432x288 with 1 Axes>"
            ]
          },
          "metadata": {
            "tags": [],
            "needs_background": "light"
          }
        }
      ]
    },
    {
      "cell_type": "code",
      "metadata": {
        "id": "U6gZ0JIHOgsW"
      },
      "source": [
        "df1 =df1.drop(['Total_Images'], axis = 1)"
      ],
      "execution_count": null,
      "outputs": []
    },
    {
      "cell_type": "code",
      "metadata": {
        "colab": {
          "base_uri": "https://localhost:8080/"
        },
        "id": "Tr6pK3MWCktK",
        "outputId": "79aa2bdd-8ba3-4a14-866d-470cd078de7b"
      },
      "source": [
        "df1.shape"
      ],
      "execution_count": null,
      "outputs": [
        {
          "output_type": "execute_result",
          "data": {
            "text/plain": [
              "(68353, 10)"
            ]
          },
          "metadata": {
            "tags": []
          },
          "execution_count": 60
        }
      ]
    },
    {
      "cell_type": "code",
      "metadata": {
        "id": "gImg1bpLCqiv"
      },
      "source": [
        "#df1 =df1.drop(['Total_Links','Total_Images'], axis = 1)\n",
        "#df1.shape"
      ],
      "execution_count": null,
      "outputs": []
    },
    {
      "cell_type": "code",
      "metadata": {
        "id": "UVp3kCogQCzF"
      },
      "source": [
        "df1 =df1.drop(['links&images'], axis = 1)"
      ],
      "execution_count": null,
      "outputs": []
    },
    {
      "cell_type": "code",
      "metadata": {
        "id": "afJAC11pDEpG"
      },
      "source": [
        "#df1['Status']=df1['Email_Status']"
      ],
      "execution_count": null,
      "outputs": []
    },
    {
      "cell_type": "code",
      "metadata": {
        "colab": {
          "base_uri": "https://localhost:8080/"
        },
        "id": "yqLZVc8dIpW9",
        "outputId": "89d0a5cb-5c0d-439d-8a16-996291d0e13c"
      },
      "source": [
        "df1.columns"
      ],
      "execution_count": null,
      "outputs": [
        {
          "output_type": "execute_result",
          "data": {
            "text/plain": [
              "Index(['Email_Type', 'Subject_Hotness_Score', 'Email_Source_Type',\n",
              "       'Email_Campaign_Type', 'Total_Past_Communications',\n",
              "       'Time_Email_sent_Category', 'Word_Count', 'Total_Links',\n",
              "       'Email_Status'],\n",
              "      dtype='object')"
            ]
          },
          "metadata": {
            "tags": []
          },
          "execution_count": 64
        }
      ]
    },
    {
      "cell_type": "code",
      "metadata": {
        "colab": {
          "base_uri": "https://localhost:8080/"
        },
        "id": "4BJvgAITQKzK",
        "outputId": "6ce2745d-93cc-4bb2-c73b-54ce36a3c161"
      },
      "source": [
        "df1.shape"
      ],
      "execution_count": null,
      "outputs": [
        {
          "output_type": "execute_result",
          "data": {
            "text/plain": [
              "(68353, 9)"
            ]
          },
          "metadata": {
            "tags": []
          },
          "execution_count": 65
        }
      ]
    },
    {
      "cell_type": "code",
      "metadata": {
        "id": "oRcU40wXpr08"
      },
      "source": [
        "#Multicollinearity\n",
        "from statsmodels.stats.outliers_influence import variance_inflation_factor\n",
        "def calc_vif(X):\n",
        "\n",
        "    # Calculating VIF\n",
        "    vif = pd.DataFrame()\n",
        "    vif[\"variables\"] = X.columns\n",
        "    vif[\"VIF\"] = [variance_inflation_factor(X.values, i) for i in range(X.shape[1])]\n",
        "\n",
        "    return(vif)"
      ],
      "execution_count": null,
      "outputs": []
    },
    {
      "cell_type": "code",
      "metadata": {
        "colab": {
          "base_uri": "https://localhost:8080/",
          "height": 204
        },
        "id": "MzFdzQaTpvsR",
        "outputId": "ddc38ae7-d4d0-487a-d7be-3b269198c239"
      },
      "source": [
        "calc_vif(df1[[i for i in df1.describe().columns if i not in ['Email_ID','Email_Type','Email_Source_Type','Email_Campaign_Type','Time_Email_sent_Category']]])"
      ],
      "execution_count": null,
      "outputs": [
        {
          "output_type": "execute_result",
          "data": {
            "text/html": [
              "<div>\n",
              "<style scoped>\n",
              "    .dataframe tbody tr th:only-of-type {\n",
              "        vertical-align: middle;\n",
              "    }\n",
              "\n",
              "    .dataframe tbody tr th {\n",
              "        vertical-align: top;\n",
              "    }\n",
              "\n",
              "    .dataframe thead th {\n",
              "        text-align: right;\n",
              "    }\n",
              "</style>\n",
              "<table border=\"1\" class=\"dataframe\">\n",
              "  <thead>\n",
              "    <tr style=\"text-align: right;\">\n",
              "      <th></th>\n",
              "      <th>variables</th>\n",
              "      <th>VIF</th>\n",
              "    </tr>\n",
              "  </thead>\n",
              "  <tbody>\n",
              "    <tr>\n",
              "      <th>0</th>\n",
              "      <td>Subject_Hotness_Score</td>\n",
              "      <td>1.773406</td>\n",
              "    </tr>\n",
              "    <tr>\n",
              "      <th>1</th>\n",
              "      <td>Total_Past_Communications</td>\n",
              "      <td>4.192587</td>\n",
              "    </tr>\n",
              "    <tr>\n",
              "      <th>2</th>\n",
              "      <td>Word_Count</td>\n",
              "      <td>3.922224</td>\n",
              "    </tr>\n",
              "    <tr>\n",
              "      <th>3</th>\n",
              "      <td>Total_Links</td>\n",
              "      <td>3.851532</td>\n",
              "    </tr>\n",
              "    <tr>\n",
              "      <th>4</th>\n",
              "      <td>Email_Status</td>\n",
              "      <td>1.296830</td>\n",
              "    </tr>\n",
              "  </tbody>\n",
              "</table>\n",
              "</div>"
            ],
            "text/plain": [
              "                   variables       VIF\n",
              "0      Subject_Hotness_Score  1.773406\n",
              "1  Total_Past_Communications  4.192587\n",
              "2                 Word_Count  3.922224\n",
              "3                Total_Links  3.851532\n",
              "4               Email_Status  1.296830"
            ]
          },
          "metadata": {
            "tags": []
          },
          "execution_count": 86
        }
      ]
    },
    {
      "cell_type": "code",
      "metadata": {
        "id": "VO4eJzHxKyHS"
      },
      "source": [
        "#outliers removal using z score\n",
        "z_scores = stats.zscore(df1[[\"Subject_Hotness_Score\",\"Total_Past_Communications\",\"Word_Count\",\"Total_Links\"]])\n",
        "abs_z_scores = np.abs(z_scores)\n",
        "filtered_entries = (abs_z_scores < 2.85).all(axis=1)\n",
        "df2 = df1[filtered_entries]"
      ],
      "execution_count": null,
      "outputs": []
    },
    {
      "cell_type": "code",
      "metadata": {
        "colab": {
          "base_uri": "https://localhost:8080/",
          "height": 297
        },
        "id": "5jtVBiODqREA",
        "outputId": "d684095c-b7ac-473c-8d16-177e6101456a"
      },
      "source": [
        "sns.boxplot(x=df2[\"Total_Links\"])"
      ],
      "execution_count": null,
      "outputs": [
        {
          "output_type": "execute_result",
          "data": {
            "text/plain": [
              "<matplotlib.axes._subplots.AxesSubplot at 0x7f9c83143bd0>"
            ]
          },
          "metadata": {
            "tags": []
          },
          "execution_count": 92
        },
        {
          "output_type": "display_data",
          "data": {
            "image/png": "[encoded data removed]",
            "text/plain": [
              "<Figure size 432x288 with 1 Axes>"
            ]
          },
          "metadata": {
            "tags": [],
            "needs_background": "light"
          }
        }
      ]
    },
    {
      "cell_type": "code",
      "metadata": {
        "colab": {
          "base_uri": "https://localhost:8080/"
        },
        "id": "_EiAnZXXqctf",
        "outputId": "a277491f-f0ed-4f31-c079-96cca9130362"
      },
      "source": [
        "df2.shape"
      ],
      "execution_count": null,
      "outputs": [
        {
          "output_type": "execute_result",
          "data": {
            "text/plain": [
              "(66237, 9)"
            ]
          },
          "metadata": {
            "tags": []
          },
          "execution_count": 89
        }
      ]
    },
    {
      "cell_type": "code",
      "metadata": {
        "id": "ZgJ9sbwpIvwP"
      },
      "source": [
        "#df1 =df1.drop(['Email_Status'], axis = 1)\n",
        "#df1.columns"
      ],
      "execution_count": null,
      "outputs": []
    },
    {
      "cell_type": "code",
      "metadata": {
        "colab": {
          "base_uri": "https://localhost:8080/"
        },
        "id": "Bj-2NxwzfzN3",
        "outputId": "18c1179c-0cfe-4c62-87b7-50b8e1755604"
      },
      "source": [
        "y_col = df1.Email_Status\n",
        "print(y_col.shape)\n",
        "#df1.corr()\n",
        "df1.nunique()"
      ],
      "execution_count": null,
      "outputs": [
        {
          "output_type": "stream",
          "text": [
            "(68353,)\n"
          ],
          "name": "stdout"
        },
        {
          "output_type": "execute_result",
          "data": {
            "text/plain": [
              "Email_Type                     2\n",
              "Subject_Hotness_Score         51\n",
              "Email_Source_Type              2\n",
              "Email_Campaign_Type            3\n",
              "Total_Past_Communications     64\n",
              "Time_Email_sent_Category       3\n",
              "Word_Count                   151\n",
              "Total_Links                   37\n",
              "Email_Status                   3\n",
              "dtype: int64"
            ]
          },
          "metadata": {
            "tags": []
          },
          "execution_count": 67
        }
      ]
    },
    {
      "cell_type": "code",
      "metadata": {
        "id": "AeJQn_Jbg2PC"
      },
      "source": [
        "new_df = pd.get_dummies(new_df, columns= categorical_features, prefix=[\"Email_Type\", \"Source\",\"Campaign\",\"Time_Sent\"])"
      ],
      "execution_count": null,
      "outputs": []
    },
    {
      "cell_type": "code",
      "metadata": {
        "id": "BYvwMDBdQ0E2"
      },
      "source": [
        "from sklearn.model_selection import train_test_split"
      ],
      "execution_count": null,
      "outputs": []
    },
    {
      "cell_type": "code",
      "metadata": {
        "id": "Ro6DqDwAQtBX"
      },
      "source": [
        "# Splitting the dataset into the Training set and Test set\n",
        "X_train, X_test, Y_train, Y_test = train_test_split(df2.iloc[:,0:-1], df2['Email_Status'], test_size = 0.2, random_state = 3)"
      ],
      "execution_count": null,
      "outputs": []
    },
    {
      "cell_type": "code",
      "metadata": {
        "id": "PmOB8F2p00d5"
      },
      "source": [
        "from sklearn.preprocessing import StandardScaler"
      ],
      "execution_count": null,
      "outputs": []
    },
    {
      "cell_type": "code",
      "metadata": {
        "id": "DjO5BykH1OMd"
      },
      "source": [
        "# Feature Scaling\n",
        "scaler = StandardScaler()\n",
        "X_train_norm = scaler.fit_transform(X_train)\n",
        "X_test_norm = scaler.transform(X_test)"
      ],
      "execution_count": null,
      "outputs": []
    },
    {
      "cell_type": "code",
      "metadata": {
        "id": "-rF32ZBDgRo_",
        "colab": {
          "base_uri": "https://localhost:8080/"
        },
        "outputId": "2614c540-d438-4bf0-e619-68e4d4f02734"
      },
      "source": [
        "print(\"Before OverSampling, counts of label '0': {}\".format(sum(df1['Email_Status'] == 0)))\n",
        "print(\"Before OverSampling, counts of label '1': {} \\n\".format(sum(df1['Email_Status'] == 1)))\n",
        "print(\"Before OverSampling, counts of label '2': {} \\n\".format(sum(df1['Email_Status'] == 2)))"
      ],
      "execution_count": null,
      "outputs": [
        {
          "output_type": "stream",
          "text": [
            "Before OverSampling, counts of label '0': 54941\n",
            "Before OverSampling, counts of label '1': 11039 \n",
            "\n",
            "Before OverSampling, counts of label '2': 2373 \n",
            "\n"
          ],
          "name": "stdout"
        }
      ]
    },
    {
      "cell_type": "code",
      "metadata": {
        "colab": {
          "base_uri": "https://localhost:8080/"
        },
        "id": "0WmG-dKRHRQ7",
        "outputId": "f2b67308-a89e-4ce7-bb37-c04b5b03feed"
      },
      "source": [
        "# import SMOTE module from imblearn library\n",
        "from imblearn.over_sampling import SMOTE\n",
        "\n",
        "# fit predictor and target variable\n",
        "sm = SMOTE(random_state = 2)\n",
        "x_smote, y_smote = sm.fit_resample(X_train_norm, Y_train)\n",
        "\n",
        "print('Original dataset shape', len(df2))\n",
        "print('Resampled dataset shape', len(y_smote))"
      ],
      "execution_count": null,
      "outputs": [
        {
          "output_type": "stream",
          "text": [
            "Original dataset shape 66237\n",
            "Resampled dataset shape 127776\n"
          ],
          "name": "stdout"
        }
      ]
    },
    {
      "cell_type": "code",
      "metadata": {
        "colab": {
          "base_uri": "https://localhost:8080/"
        },
        "id": "plCZQCdWHeU9",
        "outputId": "19a67042-2bd6-4e7f-c373-5effa973017d"
      },
      "source": [
        "#X_train_res, y_train_res = sm.fit_sample(X_train, y_train.ravel())\n",
        "\n",
        "print('After OverSampling, the shape of x_smote: {}'.format(x_smote.shape))\n",
        "print('After OverSampling, the shape of y_smote: {} \\n'.format(y_smote.shape))\n",
        "  \n",
        "print(\"After OverSampling, counts of label '0': {}\".format(sum(y_smote == 0)))\n",
        "print(\"After OverSampling, counts of label '1': {}\".format(sum(y_smote == 1)))\n",
        "print(\"After OverSampling, counts of label '2': {}\".format(sum(y_smote == 2)))"
      ],
      "execution_count": null,
      "outputs": [
        {
          "output_type": "stream",
          "text": [
            "After OverSampling, the shape of x_smote: (127776, 8)\n",
            "After OverSampling, the shape of y_smote: (127776,) \n",
            "\n",
            "After OverSampling, counts of label '0': 42592\n",
            "After OverSampling, counts of label '1': 42592\n",
            "After OverSampling, counts of label '2': 42592\n"
          ],
          "name": "stdout"
        }
      ]
    },
    {
      "cell_type": "code",
      "metadata": {
        "id": "bCUac2UtqgQO"
      },
      "source": [
        "from xgboost import XGBClassifier\n",
        "from sklearn.ensemble import RandomForestClassifier\n",
        "from sklearn.ensemble import GradientBoostingClassifier\n",
        "from sklearn.model_selection import GridSearchCV\n",
        "from sklearn.metrics import roc_auc_score, confusion_matrix, accuracy_score\n",
        "from sklearn.metrics import recall_score,precision_score"
      ],
      "execution_count": null,
      "outputs": []
    },
    {
      "cell_type": "code",
      "metadata": {
        "id": "KC-mH9gq58aw"
      },
      "source": [
        "# ignore warnings\n",
        "\n",
        "import warnings\n",
        "warnings.filterwarnings('ignore')"
      ],
      "execution_count": null,
      "outputs": []
    },
    {
      "cell_type": "code",
      "metadata": {
        "colab": {
          "base_uri": "https://localhost:8080/"
        },
        "id": "H7Y2mxio6KbG",
        "outputId": "4f780c2a-78d2-49ab-f5c4-097d22c9bb37"
      },
      "source": [
        "# fit model no training data\n",
        "model1 = XGBClassifier(booster='dart', max_depth=30)\n",
        "model1.fit(x_smote, y_smote)"
      ],
      "execution_count": null,
      "outputs": [
        {
          "output_type": "execute_result",
          "data": {
            "text/plain": [
              "XGBClassifier(base_score=0.5, booster='dart', colsample_bylevel=1,\n",
              "              colsample_bynode=1, colsample_bytree=1, gamma=0,\n",
              "              learning_rate=0.1, max_delta_step=0, max_depth=30,\n",
              "              min_child_weight=1, missing=None, n_estimators=100, n_jobs=1,\n",
              "              nthread=None, objective='multi:softprob', random_state=0,\n",
              "              reg_alpha=0, reg_lambda=1, scale_pos_weight=1, seed=None,\n",
              "              silent=None, subsample=1, verbosity=1)"
            ]
          },
          "metadata": {
            "tags": []
          },
          "execution_count": 110
        }
      ]
    },
    {
      "cell_type": "code",
      "metadata": {
        "id": "XrvPKm8D6e9m"
      },
      "source": [
        "# make predictions for test data\n",
        "y_pred = model1.predict(X_test_norm)\n",
        "predictions = [round(value) for value in y_pred]"
      ],
      "execution_count": null,
      "outputs": []
    },
    {
      "cell_type": "code",
      "metadata": {
        "colab": {
          "base_uri": "https://localhost:8080/"
        },
        "id": "aF8k7-lk6mID",
        "outputId": "d5ed4b5e-f68e-4fe2-fa7a-31130e3e5005"
      },
      "source": [
        "# Training accuracy\n",
        "accuracy_score(y_smote, model1.predict(x_smote))"
      ],
      "execution_count": null,
      "outputs": [
        {
          "output_type": "execute_result",
          "data": {
            "text/plain": [
              "0.9988182444277486"
            ]
          },
          "metadata": {
            "tags": []
          },
          "execution_count": 112
        }
      ]
    },
    {
      "cell_type": "code",
      "metadata": {
        "colab": {
          "base_uri": "https://localhost:8080/"
        },
        "id": "0VbkfSi76yDr",
        "outputId": "a6240e72-8d4d-41c5-eb71-03e4316ef4e8"
      },
      "source": [
        "y_pred"
      ],
      "execution_count": null,
      "outputs": [
        {
          "output_type": "execute_result",
          "data": {
            "text/plain": [
              "array([0, 0, 0, ..., 0, 0, 0])"
            ]
          },
          "metadata": {
            "tags": []
          },
          "execution_count": 113
        }
      ]
    },
    {
      "cell_type": "code",
      "metadata": {
        "colab": {
          "base_uri": "https://localhost:8080/"
        },
        "id": "mDlCqpZk6x21",
        "outputId": "06461071-2773-4545-b86e-8a38e57e9abf"
      },
      "source": [
        "# evaluate predictions\n",
        "accuracy = accuracy_score(Y_test, y_pred)\n",
        "print(\"Accuracy: %.2f%%\" % (accuracy * 100.0))"
      ],
      "execution_count": null,
      "outputs": [
        {
          "output_type": "stream",
          "text": [
            "Accuracy: 77.72%\n"
          ],
          "name": "stdout"
        }
      ]
    },
    {
      "cell_type": "code",
      "metadata": {
        "colab": {
          "base_uri": "https://localhost:8080/"
        },
        "id": "JGuPkphb64OB",
        "outputId": "0d163315-3ff8-40d3-880d-f657d7ab0cc0"
      },
      "source": [
        "precision_score(Y_test,y_pred,average='weighted')"
      ],
      "execution_count": null,
      "outputs": [
        {
          "output_type": "execute_result",
          "data": {
            "text/plain": [
              "0.7524871950816463"
            ]
          },
          "metadata": {
            "tags": []
          },
          "execution_count": 203
        }
      ]
    },
    {
      "cell_type": "code",
      "metadata": {
        "colab": {
          "base_uri": "https://localhost:8080/"
        },
        "id": "blyKGjgx64sp",
        "outputId": "7f6f595c-fc7c-4454-b591-1b400b6ddb65"
      },
      "source": [
        "recall_score(Y_test,y_pred,average='weighted')"
      ],
      "execution_count": null,
      "outputs": [
        {
          "output_type": "execute_result",
          "data": {
            "text/plain": [
              "0.6111865942028986"
            ]
          },
          "metadata": {
            "tags": []
          },
          "execution_count": 204
        }
      ]
    },
    {
      "cell_type": "code",
      "metadata": {
        "colab": {
          "base_uri": "https://localhost:8080/"
        },
        "id": "6_gCcj7m7DMD",
        "outputId": "4724d24a-6db9-459d-a69b-011a4c661848"
      },
      "source": [
        "confusion_matrix(Y_test,y_pred)"
      ],
      "execution_count": null,
      "outputs": [
        {
          "output_type": "execute_result",
          "data": {
            "text/plain": [
              "array([[9772,  750,  131],\n",
              "       [1504,  488,  126],\n",
              "       [ 313,  128,   36]])"
            ]
          },
          "metadata": {
            "tags": []
          },
          "execution_count": 117
        }
      ]
    },
    {
      "cell_type": "code",
      "metadata": {
        "id": "kPP9koE9QPrE"
      },
      "source": [
        "from sklearn.metrics import classification_report"
      ],
      "execution_count": null,
      "outputs": []
    },
    {
      "cell_type": "code",
      "metadata": {
        "colab": {
          "base_uri": "https://localhost:8080/",
          "height": 343
        },
        "id": "SqCnHJz941R_",
        "outputId": "072120c6-77d7-4e52-d5be-7fdf342b6b92"
      },
      "source": [
        "print(classification_report(Y_test,y_pred))\n",
        "pd.crosstab(Y_test,y_pred)"
      ],
      "execution_count": null,
      "outputs": [
        {
          "output_type": "stream",
          "text": [
            "              precision    recall  f1-score   support\n",
            "\n",
            "           0       0.84      0.92      0.88     10653\n",
            "           1       0.36      0.23      0.28      2118\n",
            "           2       0.12      0.08      0.09       477\n",
            "\n",
            "    accuracy                           0.78     13248\n",
            "   macro avg       0.44      0.41      0.42     13248\n",
            "weighted avg       0.74      0.78      0.75     13248\n",
            "\n"
          ],
          "name": "stdout"
        },
        {
          "output_type": "execute_result",
          "data": {
            "text/html": [
              "<div>\n",
              "<style scoped>\n",
              "    .dataframe tbody tr th:only-of-type {\n",
              "        vertical-align: middle;\n",
              "    }\n",
              "\n",
              "    .dataframe tbody tr th {\n",
              "        vertical-align: top;\n",
              "    }\n",
              "\n",
              "    .dataframe thead th {\n",
              "        text-align: right;\n",
              "    }\n",
              "</style>\n",
              "<table border=\"1\" class=\"dataframe\">\n",
              "  <thead>\n",
              "    <tr style=\"text-align: right;\">\n",
              "      <th>col_0</th>\n",
              "      <th>0</th>\n",
              "      <th>1</th>\n",
              "      <th>2</th>\n",
              "    </tr>\n",
              "    <tr>\n",
              "      <th>Email_Status</th>\n",
              "      <th></th>\n",
              "      <th></th>\n",
              "      <th></th>\n",
              "    </tr>\n",
              "  </thead>\n",
              "  <tbody>\n",
              "    <tr>\n",
              "      <th>0</th>\n",
              "      <td>9772</td>\n",
              "      <td>750</td>\n",
              "      <td>131</td>\n",
              "    </tr>\n",
              "    <tr>\n",
              "      <th>1</th>\n",
              "      <td>1504</td>\n",
              "      <td>488</td>\n",
              "      <td>126</td>\n",
              "    </tr>\n",
              "    <tr>\n",
              "      <th>2</th>\n",
              "      <td>313</td>\n",
              "      <td>128</td>\n",
              "      <td>36</td>\n",
              "    </tr>\n",
              "  </tbody>\n",
              "</table>\n",
              "</div>"
            ],
            "text/plain": [
              "col_0            0    1    2\n",
              "Email_Status                \n",
              "0             9772  750  131\n",
              "1             1504  488  126\n",
              "2              313  128   36"
            ]
          },
          "metadata": {
            "tags": []
          },
          "execution_count": 119
        }
      ]
    },
    {
      "cell_type": "code",
      "metadata": {
        "id": "lo9NdZwn5ELT"
      },
      "source": [
        "from sklearn.metrics import f1_score"
      ],
      "execution_count": null,
      "outputs": []
    },
    {
      "cell_type": "code",
      "metadata": {
        "colab": {
          "base_uri": "https://localhost:8080/"
        },
        "id": "UgNywRCx_fWH",
        "outputId": "db8c6729-4409-43c2-ccc7-2aa1bc584faa"
      },
      "source": [
        "f1_score(Y_test, y_pred, average='weighted')"
      ],
      "execution_count": null,
      "outputs": [
        {
          "output_type": "execute_result",
          "data": {
            "text/plain": [
              "0.6626964379290876"
            ]
          },
          "metadata": {
            "tags": []
          },
          "execution_count": 200
        }
      ]
    },
    {
      "cell_type": "code",
      "metadata": {
        "colab": {
          "base_uri": "https://localhost:8080/"
        },
        "id": "5eqiwNByD6ZC",
        "outputId": "119ac78b-53c7-4460-ee5d-7f1707bf65c0"
      },
      "source": [
        "# Number of trees\n",
        "n_estimators = [50,80,100]\n",
        "\n",
        "# Maximum depth of trees\n",
        "max_depth = [4,6,8]\n",
        "\n",
        "# Minimum number of samples required to split a node\n",
        "min_samples_split = [50,100,150]\n",
        "\n",
        "# Minimum number of samples required at each leaf node\n",
        "min_samples_leaf = [40,50]\n",
        "\n",
        "# HYperparameter Dict\n",
        "param_dict = {'n_estimators' : n_estimators,\n",
        "              'max_depth' : max_depth,\n",
        "              'min_samples_split' : min_samples_split,\n",
        "              'min_samples_leaf' : min_samples_leaf}\n",
        "\n",
        "# Create an instance of the XGBoost\n",
        "xgb_model = XGBClassifier(learning_rate=0.1,objective='multi:softmax')\n",
        "\n",
        "#RandomSearch\n",
        "xgb_random = RandomizedSearchCV(xgb_model,param_dict,verbose=2,cv=5)\n",
        "\n",
        "\n",
        "xgb_random.fit(x_smote,y_smote)\n"
      ],
      "execution_count": null,
      "outputs": [
        {
          "output_type": "stream",
          "text": [
            "Fitting 5 folds for each of 10 candidates, totalling 50 fits\n",
            "[CV] n_estimators=80, min_samples_split=50, min_samples_leaf=50, max_depth=4 \n"
          ],
          "name": "stdout"
        },
        {
          "output_type": "stream",
          "text": [
            "[Parallel(n_jobs=1)]: Using backend SequentialBackend with 1 concurrent workers.\n"
          ],
          "name": "stderr"
        },
        {
          "output_type": "stream",
          "text": [
            "[CV]  n_estimators=80, min_samples_split=50, min_samples_leaf=50, max_depth=4, total=  15.4s\n",
            "[CV] n_estimators=80, min_samples_split=50, min_samples_leaf=50, max_depth=4 \n"
          ],
          "name": "stdout"
        },
        {
          "output_type": "stream",
          "text": [
            "[Parallel(n_jobs=1)]: Done   1 out of   1 | elapsed:   15.4s remaining:    0.0s\n"
          ],
          "name": "stderr"
        },
        {
          "output_type": "stream",
          "text": [
            "[CV]  n_estimators=80, min_samples_split=50, min_samples_leaf=50, max_depth=4, total=  15.1s\n",
            "[CV] n_estimators=80, min_samples_split=50, min_samples_leaf=50, max_depth=4 \n",
            "[CV]  n_estimators=80, min_samples_split=50, min_samples_leaf=50, max_depth=4, total=  15.1s\n",
            "[CV] n_estimators=80, min_samples_split=50, min_samples_leaf=50, max_depth=4 \n",
            "[CV]  n_estimators=80, min_samples_split=50, min_samples_leaf=50, max_depth=4, total=  15.1s\n",
            "[CV] n_estimators=80, min_samples_split=50, min_samples_leaf=50, max_depth=4 \n",
            "[CV]  n_estimators=80, min_samples_split=50, min_samples_leaf=50, max_depth=4, total=  15.2s\n",
            "[CV] n_estimators=80, min_samples_split=150, min_samples_leaf=40, max_depth=4 \n",
            "[CV]  n_estimators=80, min_samples_split=150, min_samples_leaf=40, max_depth=4, total=  15.4s\n",
            "[CV] n_estimators=80, min_samples_split=150, min_samples_leaf=40, max_depth=4 \n",
            "[CV]  n_estimators=80, min_samples_split=150, min_samples_leaf=40, max_depth=4, total=  15.2s\n",
            "[CV] n_estimators=80, min_samples_split=150, min_samples_leaf=40, max_depth=4 \n",
            "[CV]  n_estimators=80, min_samples_split=150, min_samples_leaf=40, max_depth=4, total=  15.1s\n",
            "[CV] n_estimators=80, min_samples_split=150, min_samples_leaf=40, max_depth=4 \n",
            "[CV]  n_estimators=80, min_samples_split=150, min_samples_leaf=40, max_depth=4, total=  15.0s\n",
            "[CV] n_estimators=80, min_samples_split=150, min_samples_leaf=40, max_depth=4 \n",
            "[CV]  n_estimators=80, min_samples_split=150, min_samples_leaf=40, max_depth=4, total=  15.2s\n",
            "[CV] n_estimators=80, min_samples_split=50, min_samples_leaf=40, max_depth=6 \n",
            "[CV]  n_estimators=80, min_samples_split=50, min_samples_leaf=40, max_depth=6, total=  23.7s\n",
            "[CV] n_estimators=80, min_samples_split=50, min_samples_leaf=40, max_depth=6 \n",
            "[CV]  n_estimators=80, min_samples_split=50, min_samples_leaf=40, max_depth=6, total=  23.4s\n",
            "[CV] n_estimators=80, min_samples_split=50, min_samples_leaf=40, max_depth=6 \n",
            "[CV]  n_estimators=80, min_samples_split=50, min_samples_leaf=40, max_depth=6, total=  23.4s\n",
            "[CV] n_estimators=80, min_samples_split=50, min_samples_leaf=40, max_depth=6 \n",
            "[CV]  n_estimators=80, min_samples_split=50, min_samples_leaf=40, max_depth=6, total=  23.4s\n",
            "[CV] n_estimators=80, min_samples_split=50, min_samples_leaf=40, max_depth=6 \n",
            "[CV]  n_estimators=80, min_samples_split=50, min_samples_leaf=40, max_depth=6, total=  23.5s\n",
            "[CV] n_estimators=50, min_samples_split=150, min_samples_leaf=50, max_depth=6 \n",
            "[CV]  n_estimators=50, min_samples_split=150, min_samples_leaf=50, max_depth=6, total=  15.1s\n",
            "[CV] n_estimators=50, min_samples_split=150, min_samples_leaf=50, max_depth=6 \n",
            "[CV]  n_estimators=50, min_samples_split=150, min_samples_leaf=50, max_depth=6, total=  15.1s\n",
            "[CV] n_estimators=50, min_samples_split=150, min_samples_leaf=50, max_depth=6 \n",
            "[CV]  n_estimators=50, min_samples_split=150, min_samples_leaf=50, max_depth=6, total=  15.0s\n",
            "[CV] n_estimators=50, min_samples_split=150, min_samples_leaf=50, max_depth=6 \n",
            "[CV]  n_estimators=50, min_samples_split=150, min_samples_leaf=50, max_depth=6, total=  15.0s\n",
            "[CV] n_estimators=50, min_samples_split=150, min_samples_leaf=50, max_depth=6 \n",
            "[CV]  n_estimators=50, min_samples_split=150, min_samples_leaf=50, max_depth=6, total=  15.0s\n",
            "[CV] n_estimators=80, min_samples_split=150, min_samples_leaf=50, max_depth=6 \n",
            "[CV]  n_estimators=80, min_samples_split=150, min_samples_leaf=50, max_depth=6, total=  23.4s\n",
            "[CV] n_estimators=80, min_samples_split=150, min_samples_leaf=50, max_depth=6 \n",
            "[CV]  n_estimators=80, min_samples_split=150, min_samples_leaf=50, max_depth=6, total=  23.2s\n",
            "[CV] n_estimators=80, min_samples_split=150, min_samples_leaf=50, max_depth=6 \n",
            "[CV]  n_estimators=80, min_samples_split=150, min_samples_leaf=50, max_depth=6, total=  23.3s\n",
            "[CV] n_estimators=80, min_samples_split=150, min_samples_leaf=50, max_depth=6 \n",
            "[CV]  n_estimators=80, min_samples_split=150, min_samples_leaf=50, max_depth=6, total=  23.2s\n",
            "[CV] n_estimators=80, min_samples_split=150, min_samples_leaf=50, max_depth=6 \n",
            "[CV]  n_estimators=80, min_samples_split=150, min_samples_leaf=50, max_depth=6, total=  23.3s\n",
            "[CV] n_estimators=80, min_samples_split=100, min_samples_leaf=50, max_depth=4 \n",
            "[CV]  n_estimators=80, min_samples_split=100, min_samples_leaf=50, max_depth=4, total=  15.3s\n",
            "[CV] n_estimators=80, min_samples_split=100, min_samples_leaf=50, max_depth=4 \n",
            "[CV]  n_estimators=80, min_samples_split=100, min_samples_leaf=50, max_depth=4, total=  15.0s\n",
            "[CV] n_estimators=80, min_samples_split=100, min_samples_leaf=50, max_depth=4 \n",
            "[CV]  n_estimators=80, min_samples_split=100, min_samples_leaf=50, max_depth=4, total=  15.0s\n",
            "[CV] n_estimators=80, min_samples_split=100, min_samples_leaf=50, max_depth=4 \n",
            "[CV]  n_estimators=80, min_samples_split=100, min_samples_leaf=50, max_depth=4, total=  15.0s\n",
            "[CV] n_estimators=80, min_samples_split=100, min_samples_leaf=50, max_depth=4 \n",
            "[CV]  n_estimators=80, min_samples_split=100, min_samples_leaf=50, max_depth=4, total=  15.1s\n",
            "[CV] n_estimators=100, min_samples_split=50, min_samples_leaf=40, max_depth=8 \n",
            "[CV]  n_estimators=100, min_samples_split=50, min_samples_leaf=40, max_depth=8, total=  40.2s\n",
            "[CV] n_estimators=100, min_samples_split=50, min_samples_leaf=40, max_depth=8 \n",
            "[CV]  n_estimators=100, min_samples_split=50, min_samples_leaf=40, max_depth=8, total=  40.3s\n",
            "[CV] n_estimators=100, min_samples_split=50, min_samples_leaf=40, max_depth=8 \n",
            "[CV]  n_estimators=100, min_samples_split=50, min_samples_leaf=40, max_depth=8, total=  40.2s\n",
            "[CV] n_estimators=100, min_samples_split=50, min_samples_leaf=40, max_depth=8 \n",
            "[CV]  n_estimators=100, min_samples_split=50, min_samples_leaf=40, max_depth=8, total=  40.3s\n",
            "[CV] n_estimators=100, min_samples_split=50, min_samples_leaf=40, max_depth=8 \n",
            "[CV]  n_estimators=100, min_samples_split=50, min_samples_leaf=40, max_depth=8, total=  40.3s\n",
            "[CV] n_estimators=50, min_samples_split=100, min_samples_leaf=40, max_depth=4 \n",
            "[CV]  n_estimators=50, min_samples_split=100, min_samples_leaf=40, max_depth=4, total=   9.7s\n",
            "[CV] n_estimators=50, min_samples_split=100, min_samples_leaf=40, max_depth=4 \n",
            "[CV]  n_estimators=50, min_samples_split=100, min_samples_leaf=40, max_depth=4, total=   9.6s\n",
            "[CV] n_estimators=50, min_samples_split=100, min_samples_leaf=40, max_depth=4 \n",
            "[CV]  n_estimators=50, min_samples_split=100, min_samples_leaf=40, max_depth=4, total=   9.6s\n",
            "[CV] n_estimators=50, min_samples_split=100, min_samples_leaf=40, max_depth=4 \n",
            "[CV]  n_estimators=50, min_samples_split=100, min_samples_leaf=40, max_depth=4, total=   9.6s\n",
            "[CV] n_estimators=50, min_samples_split=100, min_samples_leaf=40, max_depth=4 \n",
            "[CV]  n_estimators=50, min_samples_split=100, min_samples_leaf=40, max_depth=4, total=   9.7s\n",
            "[CV] n_estimators=50, min_samples_split=100, min_samples_leaf=40, max_depth=6 \n",
            "[CV]  n_estimators=50, min_samples_split=100, min_samples_leaf=40, max_depth=6, total=  15.1s\n",
            "[CV] n_estimators=50, min_samples_split=100, min_samples_leaf=40, max_depth=6 \n",
            "[CV]  n_estimators=50, min_samples_split=100, min_samples_leaf=40, max_depth=6, total=  15.0s\n",
            "[CV] n_estimators=50, min_samples_split=100, min_samples_leaf=40, max_depth=6 \n",
            "[CV]  n_estimators=50, min_samples_split=100, min_samples_leaf=40, max_depth=6, total=  15.0s\n",
            "[CV] n_estimators=50, min_samples_split=100, min_samples_leaf=40, max_depth=6 \n",
            "[CV]  n_estimators=50, min_samples_split=100, min_samples_leaf=40, max_depth=6, total=  15.0s\n",
            "[CV] n_estimators=50, min_samples_split=100, min_samples_leaf=40, max_depth=6 \n",
            "[CV]  n_estimators=50, min_samples_split=100, min_samples_leaf=40, max_depth=6, total=  15.1s\n",
            "[CV] n_estimators=50, min_samples_split=150, min_samples_leaf=40, max_depth=6 \n",
            "[CV]  n_estimators=50, min_samples_split=150, min_samples_leaf=40, max_depth=6, total=  15.1s\n",
            "[CV] n_estimators=50, min_samples_split=150, min_samples_leaf=40, max_depth=6 \n",
            "[CV]  n_estimators=50, min_samples_split=150, min_samples_leaf=40, max_depth=6, total=  15.0s\n",
            "[CV] n_estimators=50, min_samples_split=150, min_samples_leaf=40, max_depth=6 \n",
            "[CV]  n_estimators=50, min_samples_split=150, min_samples_leaf=40, max_depth=6, total=  15.0s\n",
            "[CV] n_estimators=50, min_samples_split=150, min_samples_leaf=40, max_depth=6 \n",
            "[CV]  n_estimators=50, min_samples_split=150, min_samples_leaf=40, max_depth=6, total=  15.0s\n",
            "[CV] n_estimators=50, min_samples_split=150, min_samples_leaf=40, max_depth=6 \n",
            "[CV]  n_estimators=50, min_samples_split=150, min_samples_leaf=40, max_depth=6, total=  15.1s\n"
          ],
          "name": "stdout"
        },
        {
          "output_type": "stream",
          "text": [
            "[Parallel(n_jobs=1)]: Done  50 out of  50 | elapsed: 15.6min finished\n"
          ],
          "name": "stderr"
        },
        {
          "output_type": "execute_result",
          "data": {
            "text/plain": [
              "RandomizedSearchCV(cv=5, error_score=nan,\n",
              "                   estimator=XGBClassifier(base_score=0.5, booster='gbtree',\n",
              "                                           colsample_bylevel=1,\n",
              "                                           colsample_bynode=1,\n",
              "                                           colsample_bytree=1, gamma=0,\n",
              "                                           learning_rate=0.1, max_delta_step=0,\n",
              "                                           max_depth=3, min_child_weight=1,\n",
              "                                           missing=None, n_estimators=100,\n",
              "                                           n_jobs=1, nthread=None,\n",
              "                                           objective='multi:softmax',\n",
              "                                           random_state=0, reg_alpha=0,\n",
              "                                           reg_lambda=1, scale_pos_weight=1,\n",
              "                                           seed=None, silent=None, subsample=1,\n",
              "                                           verbosity=1),\n",
              "                   iid='deprecated', n_iter=10, n_jobs=None,\n",
              "                   param_distributions={'max_depth': [4, 6, 8],\n",
              "                                        'min_samples_leaf': [40, 50],\n",
              "                                        'min_samples_split': [50, 100, 150],\n",
              "                                        'n_estimators': [50, 80, 100]},\n",
              "                   pre_dispatch='2*n_jobs', random_state=None, refit=True,\n",
              "                   return_train_score=False, scoring=None, verbose=2)"
            ]
          },
          "metadata": {
            "tags": []
          },
          "execution_count": 184
        }
      ]
    },
    {
      "cell_type": "code",
      "metadata": {
        "colab": {
          "base_uri": "https://localhost:8080/"
        },
        "id": "QWNIA4BbERn-",
        "outputId": "cfd98925-801f-4c2a-eed8-8c1b599dacd2"
      },
      "source": [
        "#The best esitmators\n",
        "xgb_random.best_estimator_"
      ],
      "execution_count": null,
      "outputs": [
        {
          "output_type": "execute_result",
          "data": {
            "text/plain": [
              "XGBClassifier(base_score=0.5, booster='gbtree', colsample_bylevel=1,\n",
              "              colsample_bynode=1, colsample_bytree=1, gamma=0,\n",
              "              learning_rate=0.1, max_delta_step=0, max_depth=8,\n",
              "              min_child_weight=1, min_samples_leaf=40, min_samples_split=50,\n",
              "              missing=None, n_estimators=100, n_jobs=1, nthread=None,\n",
              "              objective='multi:softprob', random_state=0, reg_alpha=0,\n",
              "              reg_lambda=1, scale_pos_weight=1, seed=None, silent=None,\n",
              "              subsample=1, verbosity=1)"
            ]
          },
          "metadata": {
            "tags": []
          },
          "execution_count": 185
        }
      ]
    },
    {
      "cell_type": "code",
      "metadata": {
        "id": "R5eRKXtNERXM"
      },
      "source": [
        "#Building optimal model on the best estimators\n",
        "xgb_optimal_model = xgb_random.best_estimator_"
      ],
      "execution_count": null,
      "outputs": []
    },
    {
      "cell_type": "code",
      "metadata": {
        "id": "4tdBFizVERHi"
      },
      "source": [
        "# make predictions for test data\n",
        "y_pred_xgbr = xgb_optimal_model.predict(X_test_norm)"
      ],
      "execution_count": null,
      "outputs": []
    },
    {
      "cell_type": "code",
      "metadata": {
        "colab": {
          "base_uri": "https://localhost:8080/"
        },
        "id": "oKj54kj2EaHS",
        "outputId": "26ead692-b29d-4b4a-a61c-a4c313afb7ce"
      },
      "source": [
        "# Training accuracy\n",
        "accuracy_score(y_smote, xgb_optimal_model.predict(x_smote))*100"
      ],
      "execution_count": null,
      "outputs": [
        {
          "output_type": "execute_result",
          "data": {
            "text/plain": [
              "79.75519659403957"
            ]
          },
          "metadata": {
            "tags": []
          },
          "execution_count": 189
        }
      ]
    },
    {
      "cell_type": "code",
      "metadata": {
        "colab": {
          "base_uri": "https://localhost:8080/"
        },
        "id": "AD-9BIIsE37r",
        "outputId": "a126a5da-3167-42aa-c1a3-13af1df6b414"
      },
      "source": [
        "#evaluate predictions\n",
        "accuracy_xgbr = accuracy_score(Y_test, y_pred_xgbr)\n",
        "print(\"Accuracy: %.2f%%\" % (accuracy_xgbr * 100.0))\n",
        "\n",
        "print(\"Precision:\", precision_score(Y_test,y_pred_xgbr,average='weighted')*100)\n",
        "\n",
        "print(\"Recall:\",recall_score(Y_test,y_pred_xgbr,average='weighted')*100)"
      ],
      "execution_count": null,
      "outputs": [
        {
          "output_type": "stream",
          "text": [
            "Accuracy: 77.74%\n",
            "Precision: 76.12468748906888\n",
            "Recall: 77.74003623188406\n"
          ],
          "name": "stdout"
        }
      ]
    },
    {
      "cell_type": "code",
      "metadata": {
        "colab": {
          "base_uri": "https://localhost:8080/",
          "height": 296
        },
        "id": "FDTgEH98E3ul",
        "outputId": "b5edb3fa-2e15-4a5e-9b18-dc6d0e602b11"
      },
      "source": [
        "#For train\n",
        "plot_confusion_matrix(xgb_optimal_model,x_smote,y_smote)"
      ],
      "execution_count": null,
      "outputs": [
        {
          "output_type": "execute_result",
          "data": {
            "text/plain": [
              "<sklearn.metrics._plot.confusion_matrix.ConfusionMatrixDisplay at 0x7f9c4a465d90>"
            ]
          },
          "metadata": {
            "tags": []
          },
          "execution_count": 195
        },
        {
          "output_type": "display_data",
          "data": {
            "image/png": "[encoded data removed]",
            "text/plain": [
              "<Figure size 432x288 with 2 Axes>"
            ]
          },
          "metadata": {
            "tags": [],
            "needs_background": "light"
          }
        }
      ]
    },
    {
      "cell_type": "code",
      "metadata": {
        "colab": {
          "base_uri": "https://localhost:8080/",
          "height": 296
        },
        "id": "dFb3yjEoE3dZ",
        "outputId": "0c05eba6-7134-4d5f-d87c-958f2093a9c9"
      },
      "source": [
        "#For test\n",
        "plot_confusion_matrix(xgb_optimal_model,X_test_norm,Y_test)"
      ],
      "execution_count": null,
      "outputs": [
        {
          "output_type": "execute_result",
          "data": {
            "text/plain": [
              "<sklearn.metrics._plot.confusion_matrix.ConfusionMatrixDisplay at 0x7f9c47c19310>"
            ]
          },
          "metadata": {
            "tags": []
          },
          "execution_count": 196
        },
        {
          "output_type": "display_data",
          "data": {
            "image/png": "[encoded data removed]",
            "text/plain": [
              "<Figure size 432x288 with 2 Axes>"
            ]
          },
          "metadata": {
            "tags": [],
            "needs_background": "light"
          }
        }
      ]
    },
    {
      "cell_type": "code",
      "metadata": {
        "colab": {
          "base_uri": "https://localhost:8080/"
        },
        "id": "Dc4AzV_rFleS",
        "outputId": "fa141987-2101-4a5f-89c7-d41d9674b1f2"
      },
      "source": [
        "confusion_matrix(y_pred_xgbr, Y_test)"
      ],
      "execution_count": null,
      "outputs": [
        {
          "output_type": "execute_result",
          "data": {
            "text/plain": [
              "array([[9626, 1272,  240],\n",
              "       [ 793,  603,  167],\n",
              "       [ 234,  243,   70]])"
            ]
          },
          "metadata": {
            "tags": []
          },
          "execution_count": 197
        }
      ]
    },
    {
      "cell_type": "code",
      "metadata": {
        "colab": {
          "base_uri": "https://localhost:8080/",
          "height": 343
        },
        "id": "OIYqkTQZFlHc",
        "outputId": "940a0630-a911-426a-af52-6f4220edd6dc"
      },
      "source": [
        "print(classification_report(Y_test,y_pred_xgbr))\n",
        "pd.crosstab(Y_test,y_pred_xgbr)"
      ],
      "execution_count": null,
      "outputs": [
        {
          "output_type": "stream",
          "text": [
            "              precision    recall  f1-score   support\n",
            "\n",
            "           0       0.86      0.90      0.88     10653\n",
            "           1       0.39      0.28      0.33      2118\n",
            "           2       0.13      0.15      0.14       477\n",
            "\n",
            "    accuracy                           0.78     13248\n",
            "   macro avg       0.46      0.45      0.45     13248\n",
            "weighted avg       0.76      0.78      0.77     13248\n",
            "\n"
          ],
          "name": "stdout"
        },
        {
          "output_type": "execute_result",
          "data": {
            "text/html": [
              "<div>\n",
              "<style scoped>\n",
              "    .dataframe tbody tr th:only-of-type {\n",
              "        vertical-align: middle;\n",
              "    }\n",
              "\n",
              "    .dataframe tbody tr th {\n",
              "        vertical-align: top;\n",
              "    }\n",
              "\n",
              "    .dataframe thead th {\n",
              "        text-align: right;\n",
              "    }\n",
              "</style>\n",
              "<table border=\"1\" class=\"dataframe\">\n",
              "  <thead>\n",
              "    <tr style=\"text-align: right;\">\n",
              "      <th>col_0</th>\n",
              "      <th>0</th>\n",
              "      <th>1</th>\n",
              "      <th>2</th>\n",
              "    </tr>\n",
              "    <tr>\n",
              "      <th>Email_Status</th>\n",
              "      <th></th>\n",
              "      <th></th>\n",
              "      <th></th>\n",
              "    </tr>\n",
              "  </thead>\n",
              "  <tbody>\n",
              "    <tr>\n",
              "      <th>0</th>\n",
              "      <td>9626</td>\n",
              "      <td>793</td>\n",
              "      <td>234</td>\n",
              "    </tr>\n",
              "    <tr>\n",
              "      <th>1</th>\n",
              "      <td>1272</td>\n",
              "      <td>603</td>\n",
              "      <td>243</td>\n",
              "    </tr>\n",
              "    <tr>\n",
              "      <th>2</th>\n",
              "      <td>240</td>\n",
              "      <td>167</td>\n",
              "      <td>70</td>\n",
              "    </tr>\n",
              "  </tbody>\n",
              "</table>\n",
              "</div>"
            ],
            "text/plain": [
              "col_0            0    1    2\n",
              "Email_Status                \n",
              "0             9626  793  234\n",
              "1             1272  603  243\n",
              "2              240  167   70"
            ]
          },
          "metadata": {
            "tags": []
          },
          "execution_count": 198
        }
      ]
    },
    {
      "cell_type": "code",
      "metadata": {
        "colab": {
          "base_uri": "https://localhost:8080/"
        },
        "id": "Zo1tvFgtF-iF",
        "outputId": "b9d82b72-b28a-4c47-e9a2-82b4346754f2"
      },
      "source": [
        "f1_score(Y_test, y_pred_xgbr, average='weighted')"
      ],
      "execution_count": null,
      "outputs": [
        {
          "output_type": "execute_result",
          "data": {
            "text/plain": [
              "0.7677299850867761"
            ]
          },
          "metadata": {
            "tags": []
          },
          "execution_count": 201
        }
      ]
    },
    {
      "cell_type": "code",
      "metadata": {
        "id": "TkLe_QusF-IC"
      },
      "source": [
        ""
      ],
      "execution_count": null,
      "outputs": []
    },
    {
      "cell_type": "markdown",
      "metadata": {
        "id": "lYlKdza65Yhk"
      },
      "source": [
        "## KNN classifier"
      ]
    },
    {
      "cell_type": "code",
      "metadata": {
        "colab": {
          "base_uri": "https://localhost:8080/"
        },
        "id": "vbe9ZC4q5Vzk",
        "outputId": "dca322b8-bd30-42ac-bb6e-80dc1858a9f0"
      },
      "source": [
        "from sklearn.neighbors import KNeighborsClassifier\n",
        "classifier = KNeighborsClassifier(n_neighbors = 5, metric = 'minkowski', p = 2)\n",
        "classifier.fit(x_smote, y_smote)"
      ],
      "execution_count": null,
      "outputs": [
        {
          "output_type": "execute_result",
          "data": {
            "text/plain": [
              "KNeighborsClassifier(algorithm='auto', leaf_size=30, metric='minkowski',\n",
              "                     metric_params=None, n_jobs=None, n_neighbors=5, p=2,\n",
              "                     weights='uniform')"
            ]
          },
          "metadata": {
            "tags": []
          },
          "execution_count": 138
        }
      ]
    },
    {
      "cell_type": "code",
      "metadata": {
        "id": "s4uYubXy5gN9"
      },
      "source": [
        "y_pred_knn = classifier.predict(X_test_norm)"
      ],
      "execution_count": null,
      "outputs": []
    },
    {
      "cell_type": "code",
      "metadata": {
        "colab": {
          "base_uri": "https://localhost:8080/"
        },
        "id": "e6K9Hi7V5mew",
        "outputId": "2e5ef8e7-17ba-4b83-f9c4-eba6a5e23635"
      },
      "source": [
        "accuracy_score(y_pred_knn, Y_test)"
      ],
      "execution_count": null,
      "outputs": [
        {
          "output_type": "execute_result",
          "data": {
            "text/plain": [
              "0.6111865942028986"
            ]
          },
          "metadata": {
            "tags": []
          },
          "execution_count": 140
        }
      ]
    },
    {
      "cell_type": "code",
      "metadata": {
        "colab": {
          "base_uri": "https://localhost:8080/"
        },
        "id": "JQxBZ7DD5rly",
        "outputId": "4693f7ae-177e-4644-d75b-c5c8a2050416"
      },
      "source": [
        "# evaluate predictions\n",
        "accuracy_knn = accuracy_score(Y_test, y_pred_knn)\n",
        "print(\"Accuracy: %.2f%%\" % (accuracy_knn * 100.0))"
      ],
      "execution_count": null,
      "outputs": [
        {
          "output_type": "stream",
          "text": [
            "Accuracy: 61.12%\n"
          ],
          "name": "stdout"
        }
      ]
    },
    {
      "cell_type": "code",
      "metadata": {
        "colab": {
          "base_uri": "https://localhost:8080/"
        },
        "id": "m2KkoMDs5zFs",
        "outputId": "221dd300-7122-4f41-a353-9e5a6f1d9d45"
      },
      "source": [
        "print(\"Precision:\", precision_score(Y_test,y_pred_knn,average='weighted')*100)\n"
      ],
      "execution_count": null,
      "outputs": [
        {
          "output_type": "stream",
          "text": [
            "Precision: 75.24871950816463\n"
          ],
          "name": "stdout"
        }
      ]
    },
    {
      "cell_type": "code",
      "metadata": {
        "colab": {
          "base_uri": "https://localhost:8080/"
        },
        "id": "66_bJGSy52FN",
        "outputId": "56a6651a-a9af-4b8c-9599-ab25717eebb6"
      },
      "source": [
        "print(\"Recall:\",recall_score(Y_test,y_pred_knn,average='weighted')*100)"
      ],
      "execution_count": null,
      "outputs": [
        {
          "output_type": "stream",
          "text": [
            "Recall: 61.11865942028986\n"
          ],
          "name": "stdout"
        }
      ]
    },
    {
      "cell_type": "code",
      "metadata": {
        "id": "0neCYeUw54hP"
      },
      "source": [
        "from sklearn.metrics import accuracy_score,recall_score,precision_score,plot_confusion_matrix,roc_auc_score"
      ],
      "execution_count": null,
      "outputs": []
    },
    {
      "cell_type": "code",
      "metadata": {
        "colab": {
          "base_uri": "https://localhost:8080/",
          "height": 296
        },
        "id": "mZOUTk276Hjp",
        "outputId": "a5fa0952-2903-4ee3-c857-7f1b7da4ec2e"
      },
      "source": [
        "#For training data\n",
        "plot_confusion_matrix(classifier,x_smote,y_smote)"
      ],
      "execution_count": null,
      "outputs": [
        {
          "output_type": "execute_result",
          "data": {
            "text/plain": [
              "<sklearn.metrics._plot.confusion_matrix.ConfusionMatrixDisplay at 0x7f9c83055c50>"
            ]
          },
          "metadata": {
            "tags": []
          },
          "execution_count": 145
        },
        {
          "output_type": "display_data",
          "data": {
            "image/png": "[encoded data removed]",
            "text/plain": [
              "<Figure size 432x288 with 2 Axes>"
            ]
          },
          "metadata": {
            "tags": [],
            "needs_background": "light"
          }
        }
      ]
    },
    {
      "cell_type": "code",
      "metadata": {
        "colab": {
          "base_uri": "https://localhost:8080/",
          "height": 299
        },
        "id": "cUIu2KaE6QVU",
        "outputId": "0ebd04a3-7fff-4f78-8750-87302e8be7fb"
      },
      "source": [
        "#For test\n",
        "plot_confusion_matrix(classifier,X_test_norm,Y_test)"
      ],
      "execution_count": null,
      "outputs": [
        {
          "output_type": "execute_result",
          "data": {
            "text/plain": [
              "<sklearn.metrics._plot.confusion_matrix.ConfusionMatrixDisplay at 0x7f9c82e64f90>"
            ]
          },
          "metadata": {
            "tags": []
          },
          "execution_count": 146
        },
        {
          "output_type": "display_data",
          "data": {
            "image/png": "[encoded data removed]",
            "text/plain": [
              "<Figure size 432x288 with 2 Axes>"
            ]
          },
          "metadata": {
            "tags": [],
            "needs_background": "light"
          }
        }
      ]
    },
    {
      "cell_type": "code",
      "metadata": {
        "colab": {
          "base_uri": "https://localhost:8080/"
        },
        "id": "z8eNa3vu6X9A",
        "outputId": "ea6a4719-6715-4437-9e87-07c1ec58881d"
      },
      "source": [
        "confusion_matrix(y_pred_knn, Y_test)"
      ],
      "execution_count": null,
      "outputs": [
        {
          "output_type": "execute_result",
          "data": {
            "text/plain": [
              "array([[7029,  784,  149],\n",
              "       [2666,  936,  196],\n",
              "       [ 958,  398,  132]])"
            ]
          },
          "metadata": {
            "tags": []
          },
          "execution_count": 147
        }
      ]
    },
    {
      "cell_type": "code",
      "metadata": {
        "colab": {
          "base_uri": "https://localhost:8080/",
          "height": 343
        },
        "id": "rXRjUfvm6b8x",
        "outputId": "96171577-4eaa-498c-e2cf-8f32a3750319"
      },
      "source": [
        "print(classification_report(Y_test,y_pred_knn))\n",
        "pd.crosstab(Y_test,y_pred_knn)"
      ],
      "execution_count": null,
      "outputs": [
        {
          "output_type": "stream",
          "text": [
            "              precision    recall  f1-score   support\n",
            "\n",
            "           0       0.88      0.66      0.76     10653\n",
            "           1       0.25      0.44      0.32      2118\n",
            "           2       0.09      0.28      0.13       477\n",
            "\n",
            "    accuracy                           0.61     13248\n",
            "   macro avg       0.41      0.46      0.40     13248\n",
            "weighted avg       0.75      0.61      0.66     13248\n",
            "\n"
          ],
          "name": "stdout"
        },
        {
          "output_type": "execute_result",
          "data": {
            "text/html": [
              "<div>\n",
              "<style scoped>\n",
              "    .dataframe tbody tr th:only-of-type {\n",
              "        vertical-align: middle;\n",
              "    }\n",
              "\n",
              "    .dataframe tbody tr th {\n",
              "        vertical-align: top;\n",
              "    }\n",
              "\n",
              "    .dataframe thead th {\n",
              "        text-align: right;\n",
              "    }\n",
              "</style>\n",
              "<table border=\"1\" class=\"dataframe\">\n",
              "  <thead>\n",
              "    <tr style=\"text-align: right;\">\n",
              "      <th>col_0</th>\n",
              "      <th>0</th>\n",
              "      <th>1</th>\n",
              "      <th>2</th>\n",
              "    </tr>\n",
              "    <tr>\n",
              "      <th>Email_Status</th>\n",
              "      <th></th>\n",
              "      <th></th>\n",
              "      <th></th>\n",
              "    </tr>\n",
              "  </thead>\n",
              "  <tbody>\n",
              "    <tr>\n",
              "      <th>0</th>\n",
              "      <td>7029</td>\n",
              "      <td>2666</td>\n",
              "      <td>958</td>\n",
              "    </tr>\n",
              "    <tr>\n",
              "      <th>1</th>\n",
              "      <td>784</td>\n",
              "      <td>936</td>\n",
              "      <td>398</td>\n",
              "    </tr>\n",
              "    <tr>\n",
              "      <th>2</th>\n",
              "      <td>149</td>\n",
              "      <td>196</td>\n",
              "      <td>132</td>\n",
              "    </tr>\n",
              "  </tbody>\n",
              "</table>\n",
              "</div>"
            ],
            "text/plain": [
              "col_0            0     1    2\n",
              "Email_Status                 \n",
              "0             7029  2666  958\n",
              "1              784   936  398\n",
              "2              149   196  132"
            ]
          },
          "metadata": {
            "tags": []
          },
          "execution_count": 148
        }
      ]
    },
    {
      "cell_type": "code",
      "metadata": {
        "colab": {
          "base_uri": "https://localhost:8080/"
        },
        "id": "v5VfOuQK60wA",
        "outputId": "a3dd4131-626b-4682-ea8b-c4268197471d"
      },
      "source": [
        "f1_score(Y_test, y_pred_knn, average='weighted')"
      ],
      "execution_count": null,
      "outputs": [
        {
          "output_type": "execute_result",
          "data": {
            "text/plain": [
              "0.6626964379290876"
            ]
          },
          "metadata": {
            "tags": []
          },
          "execution_count": 202
        }
      ]
    },
    {
      "cell_type": "markdown",
      "metadata": {
        "id": "EqDmaBKt7ASO"
      },
      "source": [
        "## Random forest"
      ]
    },
    {
      "cell_type": "code",
      "metadata": {
        "id": "1OgWAkLJ7Cdg"
      },
      "source": [
        "from sklearn.ensemble import RandomForestClassifier"
      ],
      "execution_count": null,
      "outputs": []
    },
    {
      "cell_type": "code",
      "metadata": {
        "colab": {
          "base_uri": "https://localhost:8080/"
        },
        "id": "4uIcODDV7Hg2",
        "outputId": "58220a51-89e1-4e96-b099-bdaa006e84bc"
      },
      "source": [
        "# Fitting Random Forest Classification to the Training set\n",
        "classifier = RandomForestClassifier(n_estimators = 10, criterion = 'entropy', random_state = 42)\n",
        "classifier.fit(X_train_norm, Y_train)"
      ],
      "execution_count": null,
      "outputs": [
        {
          "output_type": "execute_result",
          "data": {
            "text/plain": [
              "RandomForestClassifier(bootstrap=True, ccp_alpha=0.0, class_weight=None,\n",
              "                       criterion='entropy', max_depth=None, max_features='auto',\n",
              "                       max_leaf_nodes=None, max_samples=None,\n",
              "                       min_impurity_decrease=0.0, min_impurity_split=None,\n",
              "                       min_samples_leaf=1, min_samples_split=2,\n",
              "                       min_weight_fraction_leaf=0.0, n_estimators=10,\n",
              "                       n_jobs=None, oob_score=False, random_state=42, verbose=0,\n",
              "                       warm_start=False)"
            ]
          },
          "metadata": {
            "tags": []
          },
          "execution_count": 151
        }
      ]
    },
    {
      "cell_type": "code",
      "metadata": {
        "id": "9dhzwv7M7OkT"
      },
      "source": [
        "# make predictions for test data\n",
        "y_pred_rf = classifier.predict(X_test_norm)"
      ],
      "execution_count": null,
      "outputs": []
    },
    {
      "cell_type": "code",
      "metadata": {
        "colab": {
          "base_uri": "https://localhost:8080/"
        },
        "id": "52sEzjmE7XLq",
        "outputId": "0607987c-243a-4b63-aace-bdcdd49f4ed2"
      },
      "source": [
        "# Training accuracy\n",
        "accuracy_score(Y_train, classifier.predict(X_train_norm))*100"
      ],
      "execution_count": null,
      "outputs": [
        {
          "output_type": "execute_result",
          "data": {
            "text/plain": [
              "97.63158391364244"
            ]
          },
          "metadata": {
            "tags": []
          },
          "execution_count": 153
        }
      ]
    },
    {
      "cell_type": "code",
      "metadata": {
        "colab": {
          "base_uri": "https://localhost:8080/"
        },
        "id": "h0MC9WVe7e6-",
        "outputId": "7b7b4788-eb45-44fa-8397-b202843a7f63"
      },
      "source": [
        "#evaluate predictions\n",
        "accuracy_rf = accuracy_score(Y_test, y_pred)\n",
        "print(\"Accuracy: %.2f%%\" % (accuracy_rf * 100.0))"
      ],
      "execution_count": null,
      "outputs": [
        {
          "output_type": "stream",
          "text": [
            "Accuracy: 61.12%\n"
          ],
          "name": "stdout"
        }
      ]
    },
    {
      "cell_type": "code",
      "metadata": {
        "colab": {
          "base_uri": "https://localhost:8080/"
        },
        "id": "9m2bIUMe7n42",
        "outputId": "b954d44e-5698-4f4e-e14c-936a3b077ddf"
      },
      "source": [
        "print(\"Precision:\", precision_score(Y_test,y_pred_rf,average='weighted')*100)"
      ],
      "execution_count": null,
      "outputs": [
        {
          "output_type": "stream",
          "text": [
            "Precision: 74.16203508266067\n"
          ],
          "name": "stdout"
        }
      ]
    },
    {
      "cell_type": "code",
      "metadata": {
        "colab": {
          "base_uri": "https://localhost:8080/"
        },
        "id": "i6vv91vk7q1e",
        "outputId": "5a5729ef-306e-44ae-e451-19a11bde30a5"
      },
      "source": [
        "print(\"Recall:\",recall_score(Y_test,y_pred_rf,average='weighted')*100)"
      ],
      "execution_count": null,
      "outputs": [
        {
          "output_type": "stream",
          "text": [
            "Recall: 79.33272946859904\n"
          ],
          "name": "stdout"
        }
      ]
    },
    {
      "cell_type": "code",
      "metadata": {
        "colab": {
          "base_uri": "https://localhost:8080/",
          "height": 296
        },
        "id": "NFiZq3Op7tWQ",
        "outputId": "2ba61235-9f02-4d91-a529-ba23ea6dd161"
      },
      "source": [
        "#For train\n",
        "plot_confusion_matrix(classifier,X_train_norm,Y_train)"
      ],
      "execution_count": null,
      "outputs": [
        {
          "output_type": "execute_result",
          "data": {
            "text/plain": [
              "<sklearn.metrics._plot.confusion_matrix.ConfusionMatrixDisplay at 0x7f9c82c64a10>"
            ]
          },
          "metadata": {
            "tags": []
          },
          "execution_count": 157
        },
        {
          "output_type": "display_data",
          "data": {
            "image/png": "[encoded data removed]",
            "text/plain": [
              "<Figure size 432x288 with 2 Axes>"
            ]
          },
          "metadata": {
            "tags": [],
            "needs_background": "light"
          }
        }
      ]
    },
    {
      "cell_type": "code",
      "metadata": {
        "colab": {
          "base_uri": "https://localhost:8080/",
          "height": 299
        },
        "id": "vGqWKoPL7zp9",
        "outputId": "b8c17b98-f306-42ae-e456-fb8ee9b7c150"
      },
      "source": [
        "#For test\n",
        "plot_confusion_matrix(classifier,X_test_norm,Y_test)"
      ],
      "execution_count": null,
      "outputs": [
        {
          "output_type": "execute_result",
          "data": {
            "text/plain": [
              "<sklearn.metrics._plot.confusion_matrix.ConfusionMatrixDisplay at 0x7f9c82b7ec50>"
            ]
          },
          "metadata": {
            "tags": []
          },
          "execution_count": 158
        },
        {
          "output_type": "display_data",
          "data": {
            "image/png": "[encoded data removed]",
            "text/plain": [
              "<Figure size 432x288 with 2 Axes>"
            ]
          },
          "metadata": {
            "tags": [],
            "needs_background": "light"
          }
        }
      ]
    },
    {
      "cell_type": "code",
      "metadata": {
        "colab": {
          "base_uri": "https://localhost:8080/",
          "height": 343
        },
        "id": "CZO_WdAw73--",
        "outputId": "9afbf93d-e882-4427-a9e2-dfb3b3e6ca74"
      },
      "source": [
        "print(classification_report(Y_test,y_pred_rf))\n",
        "pd.crosstab(Y_test,y_pred_rf)"
      ],
      "execution_count": null,
      "outputs": [
        {
          "output_type": "stream",
          "text": [
            "              precision    recall  f1-score   support\n",
            "\n",
            "           0       0.84      0.94      0.89     10653\n",
            "           1       0.41      0.20      0.27      2118\n",
            "           2       0.13      0.04      0.06       477\n",
            "\n",
            "    accuracy                           0.79     13248\n",
            "   macro avg       0.46      0.40      0.41     13248\n",
            "weighted avg       0.74      0.79      0.76     13248\n",
            "\n"
          ],
          "name": "stdout"
        },
        {
          "output_type": "execute_result",
          "data": {
            "text/html": [
              "<div>\n",
              "<style scoped>\n",
              "    .dataframe tbody tr th:only-of-type {\n",
              "        vertical-align: middle;\n",
              "    }\n",
              "\n",
              "    .dataframe tbody tr th {\n",
              "        vertical-align: top;\n",
              "    }\n",
              "\n",
              "    .dataframe thead th {\n",
              "        text-align: right;\n",
              "    }\n",
              "</style>\n",
              "<table border=\"1\" class=\"dataframe\">\n",
              "  <thead>\n",
              "    <tr style=\"text-align: right;\">\n",
              "      <th>col_0</th>\n",
              "      <th>0</th>\n",
              "      <th>1</th>\n",
              "      <th>2</th>\n",
              "    </tr>\n",
              "    <tr>\n",
              "      <th>Email_Status</th>\n",
              "      <th></th>\n",
              "      <th></th>\n",
              "      <th></th>\n",
              "    </tr>\n",
              "  </thead>\n",
              "  <tbody>\n",
              "    <tr>\n",
              "      <th>0</th>\n",
              "      <td>10060</td>\n",
              "      <td>526</td>\n",
              "      <td>67</td>\n",
              "    </tr>\n",
              "    <tr>\n",
              "      <th>1</th>\n",
              "      <td>1622</td>\n",
              "      <td>431</td>\n",
              "      <td>65</td>\n",
              "    </tr>\n",
              "    <tr>\n",
              "      <th>2</th>\n",
              "      <td>361</td>\n",
              "      <td>97</td>\n",
              "      <td>19</td>\n",
              "    </tr>\n",
              "  </tbody>\n",
              "</table>\n",
              "</div>"
            ],
            "text/plain": [
              "col_0             0    1   2\n",
              "Email_Status                \n",
              "0             10060  526  67\n",
              "1              1622  431  65\n",
              "2               361   97  19"
            ]
          },
          "metadata": {
            "tags": []
          },
          "execution_count": 159
        }
      ]
    },
    {
      "cell_type": "code",
      "metadata": {
        "colab": {
          "base_uri": "https://localhost:8080/"
        },
        "id": "JTXNtX1OACb4",
        "outputId": "6e3bb30d-f28b-4b40-d386-227e42f87d39"
      },
      "source": [
        "f1_score(Y_test, y_pred_rf, average='weighted')"
      ],
      "execution_count": null,
      "outputs": [
        {
          "output_type": "execute_result",
          "data": {
            "text/plain": [
              "0.7584781241901525"
            ]
          },
          "metadata": {
            "tags": []
          },
          "execution_count": 210
        }
      ]
    },
    {
      "cell_type": "code",
      "metadata": {
        "id": "wd_Worjj8D_C"
      },
      "source": [
        "# Number of trees\n",
        "n_estimators = [50,80,100]\n",
        "\n",
        "# Maximum depth of trees\n",
        "max_depth = [4,6,8]\n",
        "\n",
        "# Minimum number of samples required to split a node\n",
        "min_samples_split = [50,100,150]\n",
        "\n",
        "# Minimum number of samples required at each leaf node\n",
        "min_samples_leaf = [40,50]\n",
        "\n",
        "#Average parameters\n",
        "#avg= [None,'micro','macro','samples','weighted']\n",
        "\n",
        "# HYperparameter Dict\n",
        "param_dict = {'n_estimators' : n_estimators,\n",
        "              'max_depth' : max_depth,\n",
        "              'min_samples_split' : min_samples_split,\n",
        "              'min_samples_leaf' : min_samples_leaf}"
      ],
      "execution_count": null,
      "outputs": []
    },
    {
      "cell_type": "code",
      "metadata": {
        "id": "JjpeEQBv8Hzs"
      },
      "source": [
        "from sklearn.model_selection import RandomizedSearchCV\n"
      ],
      "execution_count": null,
      "outputs": []
    },
    {
      "cell_type": "code",
      "metadata": {
        "id": "UUOPf-Kr8Qef"
      },
      "source": [
        "# Create an instance of the RandomForestClassifier\n",
        "rf_model = RandomForestClassifier()"
      ],
      "execution_count": null,
      "outputs": []
    },
    {
      "cell_type": "code",
      "metadata": {
        "id": "_rDrtgoL8UHt"
      },
      "source": [
        "#Random search\n",
        "rf_random = RandomizedSearchCV(rf_model,param_dict,verbose=2,cv=5)"
      ],
      "execution_count": null,
      "outputs": []
    },
    {
      "cell_type": "code",
      "metadata": {
        "colab": {
          "base_uri": "https://localhost:8080/"
        },
        "id": "roNHbDx48XKl",
        "outputId": "6fbbf7af-0cf8-4f2c-f183-dbf62a0ea747"
      },
      "source": [
        "rf_random.fit(X_train_norm,Y_train)"
      ],
      "execution_count": null,
      "outputs": [
        {
          "output_type": "stream",
          "text": [
            "Fitting 5 folds for each of 10 candidates, totalling 50 fits\n",
            "[CV] n_estimators=100, min_samples_split=100, min_samples_leaf=50, max_depth=8 \n"
          ],
          "name": "stdout"
        },
        {
          "output_type": "stream",
          "text": [
            "[Parallel(n_jobs=1)]: Using backend SequentialBackend with 1 concurrent workers.\n"
          ],
          "name": "stderr"
        },
        {
          "output_type": "stream",
          "text": [
            "[CV]  n_estimators=100, min_samples_split=100, min_samples_leaf=50, max_depth=8, total=   2.1s\n",
            "[CV] n_estimators=100, min_samples_split=100, min_samples_leaf=50, max_depth=8 \n"
          ],
          "name": "stdout"
        },
        {
          "output_type": "stream",
          "text": [
            "[Parallel(n_jobs=1)]: Done   1 out of   1 | elapsed:    2.1s remaining:    0.0s\n"
          ],
          "name": "stderr"
        },
        {
          "output_type": "stream",
          "text": [
            "[CV]  n_estimators=100, min_samples_split=100, min_samples_leaf=50, max_depth=8, total=   2.2s\n",
            "[CV] n_estimators=100, min_samples_split=100, min_samples_leaf=50, max_depth=8 \n",
            "[CV]  n_estimators=100, min_samples_split=100, min_samples_leaf=50, max_depth=8, total=   2.1s\n",
            "[CV] n_estimators=100, min_samples_split=100, min_samples_leaf=50, max_depth=8 \n",
            "[CV]  n_estimators=100, min_samples_split=100, min_samples_leaf=50, max_depth=8, total=   2.1s\n",
            "[CV] n_estimators=100, min_samples_split=100, min_samples_leaf=50, max_depth=8 \n",
            "[CV]  n_estimators=100, min_samples_split=100, min_samples_leaf=50, max_depth=8, total=   2.1s\n",
            "[CV] n_estimators=50, min_samples_split=100, min_samples_leaf=50, max_depth=6 \n",
            "[CV]  n_estimators=50, min_samples_split=100, min_samples_leaf=50, max_depth=6, total=   0.9s\n",
            "[CV] n_estimators=50, min_samples_split=100, min_samples_leaf=50, max_depth=6 \n",
            "[CV]  n_estimators=50, min_samples_split=100, min_samples_leaf=50, max_depth=6, total=   0.9s\n",
            "[CV] n_estimators=50, min_samples_split=100, min_samples_leaf=50, max_depth=6 \n",
            "[CV]  n_estimators=50, min_samples_split=100, min_samples_leaf=50, max_depth=6, total=   0.9s\n",
            "[CV] n_estimators=50, min_samples_split=100, min_samples_leaf=50, max_depth=6 \n",
            "[CV]  n_estimators=50, min_samples_split=100, min_samples_leaf=50, max_depth=6, total=   0.9s\n",
            "[CV] n_estimators=50, min_samples_split=100, min_samples_leaf=50, max_depth=6 \n",
            "[CV]  n_estimators=50, min_samples_split=100, min_samples_leaf=50, max_depth=6, total=   0.9s\n",
            "[CV] n_estimators=100, min_samples_split=50, min_samples_leaf=50, max_depth=6 \n",
            "[CV]  n_estimators=100, min_samples_split=50, min_samples_leaf=50, max_depth=6, total=   1.8s\n",
            "[CV] n_estimators=100, min_samples_split=50, min_samples_leaf=50, max_depth=6 \n",
            "[CV]  n_estimators=100, min_samples_split=50, min_samples_leaf=50, max_depth=6, total=   1.8s\n",
            "[CV] n_estimators=100, min_samples_split=50, min_samples_leaf=50, max_depth=6 \n",
            "[CV]  n_estimators=100, min_samples_split=50, min_samples_leaf=50, max_depth=6, total=   1.8s\n",
            "[CV] n_estimators=100, min_samples_split=50, min_samples_leaf=50, max_depth=6 \n",
            "[CV]  n_estimators=100, min_samples_split=50, min_samples_leaf=50, max_depth=6, total=   1.8s\n",
            "[CV] n_estimators=100, min_samples_split=50, min_samples_leaf=50, max_depth=6 \n",
            "[CV]  n_estimators=100, min_samples_split=50, min_samples_leaf=50, max_depth=6, total=   1.8s\n",
            "[CV] n_estimators=100, min_samples_split=150, min_samples_leaf=50, max_depth=6 \n",
            "[CV]  n_estimators=100, min_samples_split=150, min_samples_leaf=50, max_depth=6, total=   1.8s\n",
            "[CV] n_estimators=100, min_samples_split=150, min_samples_leaf=50, max_depth=6 \n",
            "[CV]  n_estimators=100, min_samples_split=150, min_samples_leaf=50, max_depth=6, total=   1.8s\n",
            "[CV] n_estimators=100, min_samples_split=150, min_samples_leaf=50, max_depth=6 \n",
            "[CV]  n_estimators=100, min_samples_split=150, min_samples_leaf=50, max_depth=6, total=   1.8s\n",
            "[CV] n_estimators=100, min_samples_split=150, min_samples_leaf=50, max_depth=6 \n",
            "[CV]  n_estimators=100, min_samples_split=150, min_samples_leaf=50, max_depth=6, total=   1.8s\n",
            "[CV] n_estimators=100, min_samples_split=150, min_samples_leaf=50, max_depth=6 \n",
            "[CV]  n_estimators=100, min_samples_split=150, min_samples_leaf=50, max_depth=6, total=   1.8s\n",
            "[CV] n_estimators=100, min_samples_split=100, min_samples_leaf=40, max_depth=8 \n",
            "[CV]  n_estimators=100, min_samples_split=100, min_samples_leaf=40, max_depth=8, total=   2.1s\n",
            "[CV] n_estimators=100, min_samples_split=100, min_samples_leaf=40, max_depth=8 \n",
            "[CV]  n_estimators=100, min_samples_split=100, min_samples_leaf=40, max_depth=8, total=   2.1s\n",
            "[CV] n_estimators=100, min_samples_split=100, min_samples_leaf=40, max_depth=8 \n",
            "[CV]  n_estimators=100, min_samples_split=100, min_samples_leaf=40, max_depth=8, total=   2.1s\n",
            "[CV] n_estimators=100, min_samples_split=100, min_samples_leaf=40, max_depth=8 \n",
            "[CV]  n_estimators=100, min_samples_split=100, min_samples_leaf=40, max_depth=8, total=   2.1s\n",
            "[CV] n_estimators=100, min_samples_split=100, min_samples_leaf=40, max_depth=8 \n",
            "[CV]  n_estimators=100, min_samples_split=100, min_samples_leaf=40, max_depth=8, total=   2.1s\n",
            "[CV] n_estimators=50, min_samples_split=50, min_samples_leaf=50, max_depth=6 \n",
            "[CV]  n_estimators=50, min_samples_split=50, min_samples_leaf=50, max_depth=6, total=   0.9s\n",
            "[CV] n_estimators=50, min_samples_split=50, min_samples_leaf=50, max_depth=6 \n",
            "[CV]  n_estimators=50, min_samples_split=50, min_samples_leaf=50, max_depth=6, total=   0.9s\n",
            "[CV] n_estimators=50, min_samples_split=50, min_samples_leaf=50, max_depth=6 \n",
            "[CV]  n_estimators=50, min_samples_split=50, min_samples_leaf=50, max_depth=6, total=   0.9s\n",
            "[CV] n_estimators=50, min_samples_split=50, min_samples_leaf=50, max_depth=6 \n",
            "[CV]  n_estimators=50, min_samples_split=50, min_samples_leaf=50, max_depth=6, total=   0.9s\n",
            "[CV] n_estimators=50, min_samples_split=50, min_samples_leaf=50, max_depth=6 \n",
            "[CV]  n_estimators=50, min_samples_split=50, min_samples_leaf=50, max_depth=6, total=   0.9s\n",
            "[CV] n_estimators=80, min_samples_split=150, min_samples_leaf=40, max_depth=4 \n",
            "[CV]  n_estimators=80, min_samples_split=150, min_samples_leaf=40, max_depth=4, total=   1.2s\n",
            "[CV] n_estimators=80, min_samples_split=150, min_samples_leaf=40, max_depth=4 \n",
            "[CV]  n_estimators=80, min_samples_split=150, min_samples_leaf=40, max_depth=4, total=   1.2s\n",
            "[CV] n_estimators=80, min_samples_split=150, min_samples_leaf=40, max_depth=4 \n",
            "[CV]  n_estimators=80, min_samples_split=150, min_samples_leaf=40, max_depth=4, total=   1.2s\n",
            "[CV] n_estimators=80, min_samples_split=150, min_samples_leaf=40, max_depth=4 \n",
            "[CV]  n_estimators=80, min_samples_split=150, min_samples_leaf=40, max_depth=4, total=   1.2s\n",
            "[CV] n_estimators=80, min_samples_split=150, min_samples_leaf=40, max_depth=4 \n",
            "[CV]  n_estimators=80, min_samples_split=150, min_samples_leaf=40, max_depth=4, total=   1.2s\n",
            "[CV] n_estimators=80, min_samples_split=150, min_samples_leaf=50, max_depth=8 \n",
            "[CV]  n_estimators=80, min_samples_split=150, min_samples_leaf=50, max_depth=8, total=   1.7s\n",
            "[CV] n_estimators=80, min_samples_split=150, min_samples_leaf=50, max_depth=8 \n",
            "[CV]  n_estimators=80, min_samples_split=150, min_samples_leaf=50, max_depth=8, total=   1.7s\n",
            "[CV] n_estimators=80, min_samples_split=150, min_samples_leaf=50, max_depth=8 \n",
            "[CV]  n_estimators=80, min_samples_split=150, min_samples_leaf=50, max_depth=8, total=   1.7s\n",
            "[CV] n_estimators=80, min_samples_split=150, min_samples_leaf=50, max_depth=8 \n",
            "[CV]  n_estimators=80, min_samples_split=150, min_samples_leaf=50, max_depth=8, total=   1.7s\n",
            "[CV] n_estimators=80, min_samples_split=150, min_samples_leaf=50, max_depth=8 \n",
            "[CV]  n_estimators=80, min_samples_split=150, min_samples_leaf=50, max_depth=8, total=   1.7s\n",
            "[CV] n_estimators=100, min_samples_split=100, min_samples_leaf=50, max_depth=6 \n",
            "[CV]  n_estimators=100, min_samples_split=100, min_samples_leaf=50, max_depth=6, total=   1.8s\n",
            "[CV] n_estimators=100, min_samples_split=100, min_samples_leaf=50, max_depth=6 \n",
            "[CV]  n_estimators=100, min_samples_split=100, min_samples_leaf=50, max_depth=6, total=   1.8s\n",
            "[CV] n_estimators=100, min_samples_split=100, min_samples_leaf=50, max_depth=6 \n",
            "[CV]  n_estimators=100, min_samples_split=100, min_samples_leaf=50, max_depth=6, total=   1.8s\n",
            "[CV] n_estimators=100, min_samples_split=100, min_samples_leaf=50, max_depth=6 \n",
            "[CV]  n_estimators=100, min_samples_split=100, min_samples_leaf=50, max_depth=6, total=   1.8s\n",
            "[CV] n_estimators=100, min_samples_split=100, min_samples_leaf=50, max_depth=6 \n",
            "[CV]  n_estimators=100, min_samples_split=100, min_samples_leaf=50, max_depth=6, total=   1.8s\n",
            "[CV] n_estimators=50, min_samples_split=100, min_samples_leaf=40, max_depth=6 \n",
            "[CV]  n_estimators=50, min_samples_split=100, min_samples_leaf=40, max_depth=6, total=   0.9s\n",
            "[CV] n_estimators=50, min_samples_split=100, min_samples_leaf=40, max_depth=6 \n",
            "[CV]  n_estimators=50, min_samples_split=100, min_samples_leaf=40, max_depth=6, total=   0.9s\n",
            "[CV] n_estimators=50, min_samples_split=100, min_samples_leaf=40, max_depth=6 \n",
            "[CV]  n_estimators=50, min_samples_split=100, min_samples_leaf=40, max_depth=6, total=   0.9s\n",
            "[CV] n_estimators=50, min_samples_split=100, min_samples_leaf=40, max_depth=6 \n",
            "[CV]  n_estimators=50, min_samples_split=100, min_samples_leaf=40, max_depth=6, total=   0.9s\n",
            "[CV] n_estimators=50, min_samples_split=100, min_samples_leaf=40, max_depth=6 \n",
            "[CV]  n_estimators=50, min_samples_split=100, min_samples_leaf=40, max_depth=6, total=   0.9s\n"
          ],
          "name": "stdout"
        },
        {
          "output_type": "stream",
          "text": [
            "[Parallel(n_jobs=1)]: Done  50 out of  50 | elapsed:  1.3min finished\n"
          ],
          "name": "stderr"
        },
        {
          "output_type": "execute_result",
          "data": {
            "text/plain": [
              "RandomizedSearchCV(cv=5, error_score=nan,\n",
              "                   estimator=RandomForestClassifier(bootstrap=True,\n",
              "                                                    ccp_alpha=0.0,\n",
              "                                                    class_weight=None,\n",
              "                                                    criterion='gini',\n",
              "                                                    max_depth=None,\n",
              "                                                    max_features='auto',\n",
              "                                                    max_leaf_nodes=None,\n",
              "                                                    max_samples=None,\n",
              "                                                    min_impurity_decrease=0.0,\n",
              "                                                    min_impurity_split=None,\n",
              "                                                    min_samples_leaf=1,\n",
              "                                                    min_samples_split=2,\n",
              "                                                    min_weight_fraction_leaf=0.0,\n",
              "                                                    n_estimators=100,\n",
              "                                                    n_jobs=None,\n",
              "                                                    oob_score=False,\n",
              "                                                    random_state=None,\n",
              "                                                    verbose=0,\n",
              "                                                    warm_start=False),\n",
              "                   iid='deprecated', n_iter=10, n_jobs=None,\n",
              "                   param_distributions={'max_depth': [4, 6, 8],\n",
              "                                        'min_samples_leaf': [40, 50],\n",
              "                                        'min_samples_split': [50, 100, 150],\n",
              "                                        'n_estimators': [50, 80, 100]},\n",
              "                   pre_dispatch='2*n_jobs', random_state=None, refit=True,\n",
              "                   return_train_score=False, scoring=None, verbose=2)"
            ]
          },
          "metadata": {
            "tags": []
          },
          "execution_count": 165
        }
      ]
    },
    {
      "cell_type": "code",
      "metadata": {
        "colab": {
          "base_uri": "https://localhost:8080/"
        },
        "id": "ksYxJV1k8cWG",
        "outputId": "6bd133cb-e1c8-4185-f603-c85359b6ef95"
      },
      "source": [
        "#The best esitmators\n",
        "rf_random.best_estimator_"
      ],
      "execution_count": null,
      "outputs": [
        {
          "output_type": "execute_result",
          "data": {
            "text/plain": [
              "RandomForestClassifier(bootstrap=True, ccp_alpha=0.0, class_weight=None,\n",
              "                       criterion='gini', max_depth=8, max_features='auto',\n",
              "                       max_leaf_nodes=None, max_samples=None,\n",
              "                       min_impurity_decrease=0.0, min_impurity_split=None,\n",
              "                       min_samples_leaf=40, min_samples_split=100,\n",
              "                       min_weight_fraction_leaf=0.0, n_estimators=100,\n",
              "                       n_jobs=None, oob_score=False, random_state=None,\n",
              "                       verbose=0, warm_start=False)"
            ]
          },
          "metadata": {
            "tags": []
          },
          "execution_count": 166
        }
      ]
    },
    {
      "cell_type": "code",
      "metadata": {
        "id": "Gmos6hPw8e5C"
      },
      "source": [
        "#Building optimal model on the best estimators\n",
        "rf_optimal_model = rf_random.best_estimator_"
      ],
      "execution_count": null,
      "outputs": []
    },
    {
      "cell_type": "code",
      "metadata": {
        "id": "0VfHpwIP8hcI"
      },
      "source": [
        "# make predictions for test data\n",
        "y_pred_r = rf_optimal_model.predict(X_test_norm)"
      ],
      "execution_count": null,
      "outputs": []
    },
    {
      "cell_type": "code",
      "metadata": {
        "colab": {
          "base_uri": "https://localhost:8080/"
        },
        "id": "GslS9HlV8oPV",
        "outputId": "0ac0eae0-977c-49b2-b07e-7e602764e57a"
      },
      "source": [
        "#Training accuracy\n",
        "accuracy_score(Y_train, rf_optimal_model.predict(X_train_norm))*100"
      ],
      "execution_count": null,
      "outputs": [
        {
          "output_type": "execute_result",
          "data": {
            "text/plain": [
              "81.34707203381834"
            ]
          },
          "metadata": {
            "tags": []
          },
          "execution_count": 169
        }
      ]
    },
    {
      "cell_type": "code",
      "metadata": {
        "colab": {
          "base_uri": "https://localhost:8080/"
        },
        "id": "aitm__C980MC",
        "outputId": "3c0f579a-ec8d-4218-c3c7-58cb720e1389"
      },
      "source": [
        "# evaluate predictions\n",
        "accuracy_r = accuracy_score(Y_test, y_pred_r)\n",
        "print(\"Accuracy: %.2f%%\" % (accuracy_r * 100.0))"
      ],
      "execution_count": null,
      "outputs": [
        {
          "output_type": "stream",
          "text": [
            "Accuracy: 81.29%\n"
          ],
          "name": "stdout"
        }
      ]
    },
    {
      "cell_type": "code",
      "metadata": {
        "colab": {
          "base_uri": "https://localhost:8080/"
        },
        "id": "fvh5GHu083gA",
        "outputId": "8d11771d-1bc9-4129-a6f8-2232e2f7becf"
      },
      "source": [
        "print(\"Precision:\", precision_score(Y_test,y_pred_r,average='weighted')*100)"
      ],
      "execution_count": null,
      "outputs": [
        {
          "output_type": "stream",
          "text": [
            "Precision: 75.37534138826236\n"
          ],
          "name": "stdout"
        }
      ]
    },
    {
      "cell_type": "code",
      "metadata": {
        "colab": {
          "base_uri": "https://localhost:8080/"
        },
        "id": "y59mPJ28886g",
        "outputId": "9ab532b3-2c77-4362-a6fc-625c183d2274"
      },
      "source": [
        "print(\"Recall:\",recall_score(Y_test,y_pred_r,average='weighted')*100)"
      ],
      "execution_count": null,
      "outputs": [
        {
          "output_type": "stream",
          "text": [
            "Recall: 81.28774154589372\n"
          ],
          "name": "stdout"
        }
      ]
    },
    {
      "cell_type": "code",
      "metadata": {
        "colab": {
          "base_uri": "https://localhost:8080/",
          "height": 296
        },
        "id": "nZIEdz259Aft",
        "outputId": "5ccc3bc6-5fa9-4686-c435-f88308fe6ec4"
      },
      "source": [
        "#For train\n",
        "plot_confusion_matrix(rf_optimal_model,X_train_norm,Y_train)"
      ],
      "execution_count": null,
      "outputs": [
        {
          "output_type": "execute_result",
          "data": {
            "text/plain": [
              "<sklearn.metrics._plot.confusion_matrix.ConfusionMatrixDisplay at 0x7f9c82cbbe90>"
            ]
          },
          "metadata": {
            "tags": []
          },
          "execution_count": 173
        },
        {
          "output_type": "display_data",
          "data": {
            "image/png": "[encoded data removed]",
            "text/plain": [
              "<Figure size 432x288 with 2 Axes>"
            ]
          },
          "metadata": {
            "tags": [],
            "needs_background": "light"
          }
        }
      ]
    },
    {
      "cell_type": "code",
      "metadata": {
        "colab": {
          "base_uri": "https://localhost:8080/",
          "height": 296
        },
        "id": "8EZ5SPcx9Gps",
        "outputId": "c399e7b3-69f3-4911-ecee-5519d264913d"
      },
      "source": [
        "#For test\n",
        "plot_confusion_matrix(rf_optimal_model,X_test_norm,Y_test)"
      ],
      "execution_count": null,
      "outputs": [
        {
          "output_type": "execute_result",
          "data": {
            "text/plain": [
              "<sklearn.metrics._plot.confusion_matrix.ConfusionMatrixDisplay at 0x7f9c82b1db10>"
            ]
          },
          "metadata": {
            "tags": []
          },
          "execution_count": 174
        },
        {
          "output_type": "display_data",
          "data": {
            "image/png": "[encoded data removed]",
            "text/plain": [
              "<Figure size 432x288 with 2 Axes>"
            ]
          },
          "metadata": {
            "tags": [],
            "needs_background": "light"
          }
        }
      ]
    },
    {
      "cell_type": "code",
      "metadata": {
        "colab": {
          "base_uri": "https://localhost:8080/",
          "height": 343
        },
        "id": "si7JyMwK9LcV",
        "outputId": "553ee3c8-948d-4927-dc6f-791af38d4b48"
      },
      "source": [
        "print(classification_report(Y_test,y_pred_r))\n",
        "pd.crosstab(Y_test,y_pred_r)"
      ],
      "execution_count": null,
      "outputs": [
        {
          "output_type": "stream",
          "text": [
            "              precision    recall  f1-score   support\n",
            "\n",
            "           0       0.82      0.99      0.90     10653\n",
            "           1       0.60      0.09      0.16      2118\n",
            "           2       0.00      0.00      0.00       477\n",
            "\n",
            "    accuracy                           0.81     13248\n",
            "   macro avg       0.47      0.36      0.35     13248\n",
            "weighted avg       0.75      0.81      0.75     13248\n",
            "\n"
          ],
          "name": "stdout"
        },
        {
          "output_type": "execute_result",
          "data": {
            "text/html": [
              "<div>\n",
              "<style scoped>\n",
              "    .dataframe tbody tr th:only-of-type {\n",
              "        vertical-align: middle;\n",
              "    }\n",
              "\n",
              "    .dataframe tbody tr th {\n",
              "        vertical-align: top;\n",
              "    }\n",
              "\n",
              "    .dataframe thead th {\n",
              "        text-align: right;\n",
              "    }\n",
              "</style>\n",
              "<table border=\"1\" class=\"dataframe\">\n",
              "  <thead>\n",
              "    <tr style=\"text-align: right;\">\n",
              "      <th>col_0</th>\n",
              "      <th>0</th>\n",
              "      <th>1</th>\n",
              "    </tr>\n",
              "    <tr>\n",
              "      <th>Email_Status</th>\n",
              "      <th></th>\n",
              "      <th></th>\n",
              "    </tr>\n",
              "  </thead>\n",
              "  <tbody>\n",
              "    <tr>\n",
              "      <th>0</th>\n",
              "      <td>10576</td>\n",
              "      <td>77</td>\n",
              "    </tr>\n",
              "    <tr>\n",
              "      <th>1</th>\n",
              "      <td>1925</td>\n",
              "      <td>193</td>\n",
              "    </tr>\n",
              "    <tr>\n",
              "      <th>2</th>\n",
              "      <td>425</td>\n",
              "      <td>52</td>\n",
              "    </tr>\n",
              "  </tbody>\n",
              "</table>\n",
              "</div>"
            ],
            "text/plain": [
              "col_0             0    1\n",
              "Email_Status            \n",
              "0             10576   77\n",
              "1              1925  193\n",
              "2               425   52"
            ]
          },
          "metadata": {
            "tags": []
          },
          "execution_count": 175
        }
      ]
    },
    {
      "cell_type": "code",
      "metadata": {
        "colab": {
          "base_uri": "https://localhost:8080/"
        },
        "id": "nMeI1Kut9U1M",
        "outputId": "4b9276f0-3bc0-4e5f-8112-1612611ba0db"
      },
      "source": [
        "f1_score(Y_test, y_pred_r, average='weighted')"
      ],
      "execution_count": null,
      "outputs": [
        {
          "output_type": "execute_result",
          "data": {
            "text/plain": [
              "0.7466441163103285"
            ]
          },
          "metadata": {
            "tags": []
          },
          "execution_count": 213
        }
      ]
    },
    {
      "cell_type": "markdown",
      "metadata": {
        "id": "Jm6kOjFJ9V6y"
      },
      "source": [
        "## Neural Network"
      ]
    },
    {
      "cell_type": "code",
      "metadata": {
        "id": "xZ00G0aX9YXv"
      },
      "source": [
        "# DNN\n",
        "from tensorflow import keras\n",
        "\n",
        "def get_model():\n",
        "    model = keras.Sequential([\n",
        "        keras.layers.Flatten(input_shape=[X_train.shape[-1]]),\n",
        "        keras.layers.Dense(512, activation='relu'),\n",
        "        keras.layers.Dense(256, activation='relu'),\n",
        "        keras.layers.Dense(128, activation='relu'),\n",
        "        keras.layers.Dense(64, activation='relu'),\n",
        "        keras.layers.Dense(32, activation='relu'),\n",
        "        keras.layers.Dropout(0.5),\n",
        "        keras.layers.Dense(9, activation='softmax')\n",
        "    ])\n",
        "    model.compile(optimizer='adam', \n",
        "                  loss='sparse_categorical_crossentropy',\n",
        "                  metrics=['accuracy'])\n",
        "    return model"
      ],
      "execution_count": null,
      "outputs": []
    },
    {
      "cell_type": "code",
      "metadata": {
        "colab": {
          "base_uri": "https://localhost:8080/"
        },
        "id": "6h3r9J379a7G",
        "outputId": "0b62f840-164e-480c-ac81-bdd50a9c32e8"
      },
      "source": [
        "# DNN (fit and validation)\n",
        "import tensorflow as tf\n",
        "\n",
        "batch_size = 512\n",
        "train_ds = tf.data.Dataset.from_tensor_slices((x_smote, y_smote)).shuffle(len(x_smote)).batch(batch_size)\n",
        "val_ds = tf.data.Dataset.from_tensor_slices((X_test_norm, Y_test)).batch(batch_size)\n",
        "\n",
        "model = get_model()\n",
        "fit = model.fit(train_ds, validation_data=val_ds, epochs=20)"
      ],
      "execution_count": null,
      "outputs": [
        {
          "output_type": "stream",
          "text": [
            "Epoch 1/20\n",
            "250/250 [==============================] - 5s 19ms/step - loss: 1.3992 - accuracy: 0.4348 - val_loss: 0.8920 - val_accuracy: 0.6245\n",
            "Epoch 2/20\n",
            "250/250 [==============================] - 4s 17ms/step - loss: 0.9565 - accuracy: 0.5399 - val_loss: 0.9219 - val_accuracy: 0.6130\n",
            "Epoch 3/20\n",
            "250/250 [==============================] - 4s 17ms/step - loss: 0.9291 - accuracy: 0.5517 - val_loss: 0.7803 - val_accuracy: 0.6807\n",
            "Epoch 4/20\n",
            "250/250 [==============================] - 4s 17ms/step - loss: 0.9106 - accuracy: 0.5599 - val_loss: 0.7918 - val_accuracy: 0.6655\n",
            "Epoch 5/20\n",
            "250/250 [==============================] - 4s 17ms/step - loss: 0.8935 - accuracy: 0.5663 - val_loss: 0.8289 - val_accuracy: 0.6293\n",
            "Epoch 6/20\n",
            "250/250 [==============================] - 4s 17ms/step - loss: 0.8767 - accuracy: 0.5743 - val_loss: 0.8127 - val_accuracy: 0.6417\n",
            "Epoch 7/20\n",
            "250/250 [==============================] - 4s 17ms/step - loss: 0.8642 - accuracy: 0.5821 - val_loss: 0.8187 - val_accuracy: 0.6141\n",
            "Epoch 8/20\n",
            "250/250 [==============================] - 4s 17ms/step - loss: 0.8541 - accuracy: 0.5881 - val_loss: 0.7911 - val_accuracy: 0.6342\n",
            "Epoch 9/20\n",
            "250/250 [==============================] - 4s 17ms/step - loss: 0.8384 - accuracy: 0.6003 - val_loss: 0.8089 - val_accuracy: 0.6266\n",
            "Epoch 10/20\n",
            "250/250 [==============================] - 4s 17ms/step - loss: 0.8187 - accuracy: 0.6104 - val_loss: 0.9158 - val_accuracy: 0.5482\n",
            "Epoch 11/20\n",
            "250/250 [==============================] - 4s 17ms/step - loss: 0.8056 - accuracy: 0.6207 - val_loss: 0.8723 - val_accuracy: 0.5942\n",
            "Epoch 12/20\n",
            "250/250 [==============================] - 4s 17ms/step - loss: 0.7949 - accuracy: 0.6266 - val_loss: 0.8675 - val_accuracy: 0.6011\n",
            "Epoch 13/20\n",
            "250/250 [==============================] - 4s 17ms/step - loss: 0.7754 - accuracy: 0.6395 - val_loss: 0.8702 - val_accuracy: 0.5977\n",
            "Epoch 14/20\n",
            "250/250 [==============================] - 4s 18ms/step - loss: 0.7608 - accuracy: 0.6476 - val_loss: 0.8554 - val_accuracy: 0.6101\n",
            "Epoch 15/20\n",
            "250/250 [==============================] - 4s 17ms/step - loss: 0.7545 - accuracy: 0.6521 - val_loss: 0.8782 - val_accuracy: 0.5941\n",
            "Epoch 16/20\n",
            "250/250 [==============================] - 5s 18ms/step - loss: 0.7381 - accuracy: 0.6638 - val_loss: 0.8703 - val_accuracy: 0.6066\n",
            "Epoch 17/20\n",
            "250/250 [==============================] - 4s 17ms/step - loss: 0.7255 - accuracy: 0.6685 - val_loss: 0.9084 - val_accuracy: 0.5783\n",
            "Epoch 18/20\n",
            "250/250 [==============================] - 4s 18ms/step - loss: 0.7171 - accuracy: 0.6759 - val_loss: 0.9295 - val_accuracy: 0.5804\n",
            "Epoch 19/20\n",
            "250/250 [==============================] - 4s 17ms/step - loss: 0.7035 - accuracy: 0.6815 - val_loss: 0.9204 - val_accuracy: 0.5956\n",
            "Epoch 20/20\n",
            "250/250 [==============================] - 4s 17ms/step - loss: 0.6893 - accuracy: 0.6899 - val_loss: 0.8717 - val_accuracy: 0.6241\n"
          ],
          "name": "stdout"
        }
      ]
    },
    {
      "cell_type": "code",
      "metadata": {
        "id": "vI-bFsZQ9wSE"
      },
      "source": [
        "y_pred_nn = model.predict_classes(val_ds)"
      ],
      "execution_count": null,
      "outputs": []
    },
    {
      "cell_type": "code",
      "metadata": {
        "colab": {
          "base_uri": "https://localhost:8080/"
        },
        "id": "IHwQpNb79yvR",
        "outputId": "0cec0bcb-f9e8-4947-dc0a-cf90ff985029"
      },
      "source": [
        "y_pred_nn"
      ],
      "execution_count": null,
      "outputs": [
        {
          "output_type": "execute_result",
          "data": {
            "text/plain": [
              "array([1, 1, 1, ..., 1, 1, 0])"
            ]
          },
          "metadata": {
            "tags": []
          },
          "execution_count": 181
        }
      ]
    },
    {
      "cell_type": "code",
      "metadata": {
        "colab": {
          "base_uri": "https://localhost:8080/"
        },
        "id": "Wt4rmFwR900W",
        "outputId": "4235e628-c5e3-4d4a-cad9-557945d48bb1"
      },
      "source": [
        "f1_score(Y_test, y_pred_nn, average='weighted')"
      ],
      "execution_count": null,
      "outputs": [
        {
          "output_type": "execute_result",
          "data": {
            "text/plain": [
              "0.6801131668211853"
            ]
          },
          "metadata": {
            "tags": []
          },
          "execution_count": 214
        }
      ]
    },
    {
      "cell_type": "code",
      "metadata": {
        "id": "8tiEb6NHAKVz"
      },
      "source": [
        ""
      ],
      "execution_count": null,
      "outputs": []
    }
  ]
}